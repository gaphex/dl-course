{
 "cells": [
  {
   "cell_type": "code",
   "execution_count": 1,
   "metadata": {
    "collapsed": false
   },
   "outputs": [
    {
     "name": "stderr",
     "output_type": "stream",
     "text": [
      "Using gpu device 0: Quadro K4200 (CNMeM is enabled with initial size: 10.0% of memory, CuDNN 4007)\n"
     ]
    }
   ],
   "source": [
    "#!/usr/bin/env python\n",
    "\n",
    "# --------------------------------------------------------\n",
    "# Fast R-CNN\n",
    "# Copyright (c) 2015 Microsoft\n",
    "# Licensed under The MIT License [see LICENSE for details]\n",
    "# Written by Ross Girshick\n",
    "# --------------------------------------------------------\n",
    "\n",
    "\"\"\"Train a Fast R-CNN network on a region of interest database.\"\"\"\n",
    "import os\n",
    "import sys\n",
    "import scipy\n",
    "import random\n",
    "import theano\n",
    "import lasagne\n",
    "import numpy as np\n",
    "import cPickle as pickle\n",
    "import theano.tensor as T\n",
    "import matplotlib.pyplot as plt\n",
    "\n",
    "from IPython import display\n",
    "from scipy.misc import imread, imsave, imresize\n",
    "from sklearn.cross_validation import train_test_split\n",
    "\n",
    "%matplotlib inline\n",
    "\n",
    "import _init_paths\n",
    "from fast_rcnn.train import get_training_roidb, train_net, filter_roidb, SolverWrapper\n",
    "from fast_rcnn.config import cfg, cfg_from_file, cfg_from_list, get_output_dir\n",
    "from datasets.factory import get_imdb\n",
    "from custom import utilities, models, net\n",
    "import datasets.imdb\n",
    "import argparse\n",
    "import pprint\n",
    "import numpy as np\n",
    "import sys\n",
    "\n",
    "def parse_args():\n",
    "    \"\"\"\n",
    "    Parse input arguments\n",
    "    \"\"\"\n",
    "    parser = argparse.ArgumentParser(description='Train a Fast R-CNN network')\n",
    "    parser.add_argument('--iters', dest='max_iters',\n",
    "                        help='number of iterations to train',\n",
    "                        default=40000, type=int)\n",
    "    parser.add_argument('--cfg', dest='./experiments/cfgs/rcnn.yml',\n",
    "                        help='optional config file',\n",
    "                        default=None, type=str)\n",
    "    parser.add_argument('--imdb', dest='imdb_name',\n",
    "                        help='dataset to train on',\n",
    "                        default='voc_2007_trainval', type=str)\n",
    "    parser.add_argument('--rand', dest='randomize',\n",
    "                        help='randomize (do not use a fixed seed)',\n",
    "                        action='store_true')\n",
    "    parser.add_argument('--set', dest='set_cfgs',\n",
    "                        help='set config keys', default=None,\n",
    "                        nargs=argparse.REMAINDER)\n",
    "\n",
    "    if len(sys.argv) == 1:\n",
    "        parser.print_help()\n",
    "        sys.exit(1)\n",
    "\n",
    "    args = parser.parse_args()\n",
    "    return args\n",
    "\n",
    "def combined_roidb(imdb_names):\n",
    "    def get_roidb(imdb_name):\n",
    "        imdb = get_imdb(imdb_name)\n",
    "        print 'Loaded dataset `{:s}` for training'.format(imdb.name)\n",
    "        imdb.set_proposal_method(cfg.TRAIN.PROPOSAL_METHOD)\n",
    "        print 'Set proposal method: {:s}'.format(cfg.TRAIN.PROPOSAL_METHOD)\n",
    "        roidb = get_training_roidb(imdb)\n",
    "        return roidb\n",
    "\n",
    "    roidbs = [get_roidb(s) for s in imdb_names.split('+')]\n",
    "    roidb = roidbs[0]\n",
    "    if len(roidbs) > 1:\n",
    "        for r in roidbs[1:]:\n",
    "            roidb.extend(r)\n",
    "        imdb = datasets.imdb.imdb(imdb_names)\n",
    "    else:\n",
    "        imdb = get_imdb(imdb_names)\n",
    "    return imdb, roidb\n",
    "\n",
    "def run_training():\n",
    "    args = parse_args()\n",
    "\n",
    "    print('Called with args:')\n",
    "    print(args)\n",
    "\n",
    "    if args.cfg_file is not None:\n",
    "        cfg_from_file(args.cfg_file)\n",
    "    if args.set_cfgs is not None:\n",
    "        cfg_from_list(args.set_cfgs)\n",
    "\n",
    "    print('Using config:')\n",
    "    pprint.pprint(cfg)\n",
    "\n",
    "    imdb, roidb = combined_roidb(args.imdb_name)\n",
    "    print '{:d} roidb entries'.format(len(roidb))\n",
    "\n",
    "    output_dir = get_output_dir(imdb)\n",
    "    print 'Output will be saved to `{:s}`'.format(output_dir)\n",
    "\n",
    "    train_net(roidb, output_dir,\n",
    "              max_iters=args.max_iters)\n",
    "\n"
   ]
  },
  {
   "cell_type": "code",
   "execution_count": 2,
   "metadata": {
    "collapsed": true
   },
   "outputs": [],
   "source": [
    "def deprocess(img, w = None, h = None, typ = 'float64'):\n",
    "        \n",
    "    if not w or not h:\n",
    "        ims = img.shape\n",
    "        w = ims[1]\n",
    "        h = ims[2]\n",
    "    \n",
    "    R_CH = img[0]\n",
    "    G_CH = img[1]\n",
    "    B_CH = img[2]\n",
    "    \n",
    "    iimg = np.zeros((w, h, 3), dtype=typ)\n",
    "    \n",
    "    iimg[:,:,0] = R_CH\n",
    "    iimg[:,:,1] = G_CH\n",
    "    iimg[:,:,2] = B_CH\n",
    "    \n",
    "    return iimg\n",
    "\n",
    "def preprocess(img, w, h, typ = 'float64'):\n",
    "    \n",
    "    if img.shape[0] != w or img.shape[1] != h:\n",
    "        img = resize(img, w, h)\n",
    "        \n",
    "    img = img.astype(typ)\n",
    "    \n",
    "    R_CH = img[:,:,0]\n",
    "    G_CH = img[:,:,1]\n",
    "    B_CH = img[:,:,2]\n",
    "\n",
    "    itenzor = np.zeros((1,3, w, h))\n",
    "\n",
    "    itenzor[0,0] = B_CH\n",
    "    itenzor[0,1] = G_CH\n",
    "    itenzor[0,2] = R_CH\n",
    "    \n",
    "    return itenzor\n",
    "\n",
    "def flint(i):\n",
    "    return int(np.floor(i))\n",
    "\n",
    "def crop(im, ri):\n",
    "    xl, yl, xh, yh = ri[1:5]\n",
    "    xl, yl, xh, yh = flint(xl), flint(yl), flint(xh), flint(yh)\n",
    "    \n",
    "    xs = flint(xh-xl)\n",
    "    ys = flint(yh-yl)\n",
    "    dat = np.zeros((3, ys, xs))\n",
    "    dat[0] = im[0][yl:yh,xl:xh]\n",
    "    dat[1] = im[1][yl:yh,xl:xh]\n",
    "    dat[2] = im[2][yl:yh,xl:xh]\n",
    "    \n",
    "    return dat\n",
    "\n",
    "def roi_pool(d, r):\n",
    "    stack = []\n",
    "    s = 227\n",
    "    for RoI in r:\n",
    "        di = int(RoI[0])\n",
    "        stack.append(preprocess(utilities.resize(deprocess(crop(d[di],RoI), typ='int32'), s, s), s, s, typ='int32'))\n",
    "\n",
    "    inp = np.vstack(stack)\n",
    "    return inp"
   ]
  },
  {
   "cell_type": "code",
   "execution_count": 3,
   "metadata": {
    "collapsed": false
   },
   "outputs": [
    {
     "name": "stdout",
     "output_type": "stream",
     "text": [
      "Loaded dataset `voc_2007_trainval` for training\n",
      "Set proposal method: selective_search\n",
      "Appending horizontally-flipped training examples...\n",
      "voc_2007_trainval ss roidb loaded from /home/aphex/Projects/DeepLearning/seminar_6/data/cache/voc_2007_trainval_selective_search_roidb.pkl\n",
      "done\n",
      "Preparing training data...\n",
      "done\n",
      "10022 roidb entries\n",
      "Filtered 0 roidb entries: 10022 -> 10022\n"
     ]
    }
   ],
   "source": [
    "imdb, roidb = combined_roidb(\"voc_2007_trainval\")\n",
    "print '{:d} roidb entries'.format(len(roidb))\n",
    "output_dir = get_output_dir(imdb)\n",
    "roidb = filter_roidb(roidb)"
   ]
  },
  {
   "cell_type": "code",
   "execution_count": 4,
   "metadata": {
    "collapsed": false
   },
   "outputs": [
    {
     "name": "stdout",
     "output_type": "stream",
     "text": [
      "==========Initializing the SolverWrapper==========\n",
      "Computing bounding-box regression targets...\n",
      "bbox target means:\n",
      "[[ 0.          0.          0.          0.        ]\n",
      " [ 0.          0.00379662  0.02754976  0.06469912]\n",
      " [ 0.         -0.00138961  0.0633017   0.03448065]\n",
      " [ 0.          0.01547897  0.00778036  0.06749826]\n",
      " [ 0.         -0.00627642 -0.00140434  0.09385452]\n",
      " [ 0.         -0.00389383 -0.07596478  0.14041215]\n",
      " [ 0.          0.0029443  -0.01565004  0.09243322]\n",
      " [ 0.          0.0007864  -0.00063314  0.08758059]\n",
      " [ 0.          0.00526074  0.02774618  0.04674116]\n",
      " [ 0.          0.00073211 -0.01874643  0.07139775]\n",
      " [ 0.          0.00984952  0.00350275  0.06485032]\n",
      " [ 0.          0.01996824  0.08911847 -0.00315299]\n",
      " [ 0.          0.00077153  0.02670116  0.05070323]\n",
      " [ 0.          0.00817035 -0.00731261  0.05171875]\n",
      " [ 0.          0.00332969  0.02667745  0.04701575]\n",
      " [ 0.         -0.00740894 -0.04660295  0.11327903]\n",
      " [ 0.          0.01492526 -0.01818247  0.10909865]\n",
      " [ 0.          0.00563756  0.00209888  0.07230053]\n",
      " [ 0.          0.0038538   0.06227722  0.03895716]\n",
      " [ 0.          0.00793804  0.02038067  0.05823674]\n",
      " [ 0.          0.03336522  0.0185877   0.09977196]]\n",
      "[ 0.          0.00589198  0.00956128  0.07009383]\n",
      "bbox target stdevs:\n",
      "[[ 0.          0.          0.          0.        ]\n",
      " [ 0.10429182  0.13884976  0.19546232  0.24846316]\n",
      " [ 0.13787705  0.11812533  0.25073155  0.21386193]\n",
      " [ 0.12063248  0.12397945  0.23421384  0.22001955]\n",
      " [ 0.10970676  0.13551257  0.21562197  0.23638874]\n",
      " [ 0.11494772  0.13190373  0.2340837   0.20503944]\n",
      " [ 0.11247517  0.14144634  0.21647318  0.2359422 ]\n",
      " [ 0.10654517  0.14789623  0.19982399  0.25186402]\n",
      " [ 0.13251309  0.12801285  0.23312286  0.21437135]\n",
      " [ 0.12466176  0.12877821  0.24087155  0.21937107]\n",
      " [ 0.13213961  0.11999037  0.25694903  0.19864581]\n",
      " [ 0.13376679  0.13721825  0.21322104  0.25838991]\n",
      " [ 0.13755451  0.12160496  0.24604963  0.20659868]\n",
      " [ 0.13627398  0.11913102  0.26239377  0.20347603]\n",
      " [ 0.12787941  0.12926972  0.23865259  0.22461552]\n",
      " [ 0.12581446  0.13600656  0.24769766  0.21732817]\n",
      " [ 0.11453647  0.1436564   0.22491497  0.23493856]\n",
      " [ 0.11854889  0.11967648  0.2260704   0.20548384]\n",
      " [ 0.12219251  0.14458762  0.20632271  0.25510104]\n",
      " [ 0.12203954  0.14012136  0.21632582  0.24377391]\n",
      " [ 0.09862293  0.11559111  0.20505557  0.23087311]]\n",
      "[ 0.12165101  0.13106792  0.22820291  0.2262273 ]\n",
      "Normalizing targets\n",
      "done\n",
      "==========Initializing NNet==========\n",
      "RoiDataLayer: name_to_top: {'bbox_inside_weights': 4, 'labels': 2, 'rois': 1, 'bbox_targets': 3, 'bbox_outside_weights': 5, 'data': 0}\n"
     ]
    }
   ],
   "source": [
    "sw = SolverWrapper(roidb, output_dir)\n",
    "rdl = sw.solver.roi_data_layer"
   ]
  },
  {
   "cell_type": "code",
   "execution_count": null,
   "metadata": {
    "collapsed": false
   },
   "outputs": [],
   "source": []
  },
  {
   "cell_type": "markdown",
   "metadata": {
    "collapsed": false
   },
   "source": []
  },
  {
   "cell_type": "code",
   "execution_count": 7,
   "metadata": {
    "collapsed": false
   },
   "outputs": [],
   "source": [
    "from copy import deepcopy"
   ]
  },
  {
   "cell_type": "code",
   "execution_count": 8,
   "metadata": {
    "collapsed": false
   },
   "outputs": [],
   "source": [
    "def fortop(rdl):\n",
    "    rdl.forward()\n",
    "    return deepcopy(rdl.top[:3])"
   ]
  },
  {
   "cell_type": "code",
   "execution_count": 11,
   "metadata": {
    "collapsed": false
   },
   "outputs": [],
   "source": []
  },
  {
   "cell_type": "code",
   "execution_count": null,
   "metadata": {
    "collapsed": false
   },
   "outputs": [],
   "source": []
  },
  {
   "cell_type": "code",
   "execution_count": null,
   "metadata": {
    "collapsed": true
   },
   "outputs": [],
   "source": []
  },
  {
   "cell_type": "code",
   "execution_count": null,
   "metadata": {
    "collapsed": false,
    "scrolled": false
   },
   "outputs": [],
   "source": [
    "#train_net(roidb, output_dir, max_iters=5000)"
   ]
  },
  {
   "cell_type": "code",
   "execution_count": 16,
   "metadata": {
    "collapsed": false
   },
   "outputs": [
    {
     "name": "stdout",
     "output_type": "stream",
     "text": [
      "[array(2.983165979385376, dtype=float32), array(0.75)]\n",
      "[array(2.9610071182250977, dtype=float32), array(0.75)]\n",
      "[array(2.9522714614868164, dtype=float32), array(0.75)]\n",
      "[array(2.960204601287842, dtype=float32), array(0.7578125)]\n",
      "[array(2.9341912269592285, dtype=float32), array(0.75)]\n",
      "[array(2.923581123352051, dtype=float32), array(0.75)]\n",
      "[array(2.91860294342041, dtype=float32), array(0.7578125)]\n",
      "[array(2.9174277782440186, dtype=float32), array(0.75)]\n",
      "[array(2.8916983604431152, dtype=float32), array(0.75)]\n",
      "[array(2.8788599967956543, dtype=float32), array(0.75)]\n",
      "[array(2.8965630531311035, dtype=float32), array(0.75)]\n",
      "[array(2.8592724800109863, dtype=float32), array(0.7734375)]\n",
      "[array(2.8548383712768555, dtype=float32), array(0.75)]\n",
      "[array(2.841975688934326, dtype=float32), array(0.75)]\n",
      "[array(2.796435832977295, dtype=float32), array(0.8671875)]\n",
      "[array(2.8284928798675537, dtype=float32), array(0.75)]\n",
      "[array(2.809694290161133, dtype=float32), array(0.75)]\n",
      "[array(2.8095202445983887, dtype=float32), array(0.75)]\n",
      "[array(2.807307720184326, dtype=float32), array(0.75)]\n",
      "[array(2.78694224357605, dtype=float32), array(0.75)]\n",
      "[array(2.7649545669555664, dtype=float32), array(0.7578125)]\n",
      "[array(2.758589267730713, dtype=float32), array(0.75)]\n",
      "[array(2.766140937805176, dtype=float32), array(0.7578125)]\n",
      "[array(2.742243766784668, dtype=float32), array(0.75)]\n",
      "[array(2.730829954147339, dtype=float32), array(0.75)]\n",
      "[array(2.7025046348571777, dtype=float32), array(0.8046875)]\n",
      "[array(2.724454879760742, dtype=float32), array(0.75)]\n",
      "[array(2.7168569564819336, dtype=float32), array(0.75)]\n",
      "[array(2.6997323036193848, dtype=float32), array(0.7578125)]\n",
      "[array(2.677826404571533, dtype=float32), array(0.75)]\n",
      "[array(2.690000534057617, dtype=float32), array(0.75)]\n",
      "[array(2.672085762023926, dtype=float32), array(0.75)]\n",
      "[array(2.6631436347961426, dtype=float32), array(0.75)]\n",
      "[array(2.6579997539520264, dtype=float32), array(0.75)]\n",
      "[array(2.638697862625122, dtype=float32), array(0.75)]\n",
      "[array(2.6316003799438477, dtype=float32), array(0.75)]\n",
      "[array(2.6279408931732178, dtype=float32), array(0.75)]\n",
      "[array(2.5999484062194824, dtype=float32), array(0.75)]\n",
      "[array(2.6020946502685547, dtype=float32), array(0.75)]\n",
      "[array(2.597656488418579, dtype=float32), array(0.75)]\n",
      "[array(2.5901665687561035, dtype=float32), array(0.75)]\n",
      "[array(2.574059009552002, dtype=float32), array(0.75)]\n",
      "[array(2.555023193359375, dtype=float32), array(0.7734375)]\n",
      "[array(2.5563769340515137, dtype=float32), array(0.75)]\n",
      "[array(2.5420970916748047, dtype=float32), array(0.75)]\n",
      "[array(2.558399200439453, dtype=float32), array(0.75)]\n",
      "[array(2.5007522106170654, dtype=float32), array(0.796875)]\n",
      "[array(2.5122334957122803, dtype=float32), array(0.75)]\n",
      "[array(2.5358986854553223, dtype=float32), array(0.7297297297297297)]\n",
      "[array(2.4975926876068115, dtype=float32), array(0.75)]\n",
      "[array(2.4975552558898926, dtype=float32), array(0.75)]\n",
      "[array(2.478066921234131, dtype=float32), array(0.75)]\n",
      "[array(2.4794530868530273, dtype=float32), array(0.75)]\n",
      "[array(2.4225821495056152, dtype=float32), array(0.8046875)]\n",
      "[array(2.4296326637268066, dtype=float32), array(0.7764705882352941)]\n",
      "[array(2.4417076110839844, dtype=float32), array(0.75)]\n",
      "[array(2.432403087615967, dtype=float32), array(0.75)]\n",
      "[array(2.4466123580932617, dtype=float32), array(0.75)]\n",
      "[array(2.4321742057800293, dtype=float32), array(0.75)]\n",
      "[array(2.428163766860962, dtype=float32), array(0.75)]\n",
      "[array(2.413057327270508, dtype=float32), array(0.75)]\n",
      "[array(2.391444683074951, dtype=float32), array(0.75)]\n",
      "[array(2.376265048980713, dtype=float32), array(0.75)]\n",
      "[array(2.381495952606201, dtype=float32), array(0.75)]\n",
      "[array(2.37026047706604, dtype=float32), array(0.75)]\n",
      "[array(2.3620853424072266, dtype=float32), array(0.75)]\n",
      "[array(2.3330068588256836, dtype=float32), array(0.7578125)]\n",
      "[array(2.342513084411621, dtype=float32), array(0.75)]\n",
      "[array(2.335216999053955, dtype=float32), array(0.75)]\n",
      "[array(2.3419952392578125, dtype=float32), array(0.75)]\n",
      "[array(2.313754081726074, dtype=float32), array(0.75)]\n",
      "[array(2.3164777755737305, dtype=float32), array(0.75)]\n",
      "[array(2.3080081939697266, dtype=float32), array(0.75)]\n",
      "[array(2.2851645946502686, dtype=float32), array(0.75)]\n",
      "[array(2.2974915504455566, dtype=float32), array(0.75)]\n",
      "[array(2.2830543518066406, dtype=float32), array(0.75)]\n",
      "[array(2.2759389877319336, dtype=float32), array(0.75)]\n",
      "[array(2.234729051589966, dtype=float32), array(0.78125)]\n",
      "[array(2.2600955963134766, dtype=float32), array(0.75)]\n",
      "[array(2.17936372756958, dtype=float32), array(0.8203125)]\n",
      "[array(2.2504632472991943, dtype=float32), array(0.75)]\n",
      "[array(2.2422709465026855, dtype=float32), array(0.75)]\n",
      "[array(2.215965747833252, dtype=float32), array(0.75)]\n",
      "[array(2.2156169414520264, dtype=float32), array(0.75)]\n",
      "[array(2.2088119983673096, dtype=float32), array(0.75)]\n",
      "[array(2.1891894340515137, dtype=float32), array(0.75)]\n",
      "[array(2.2157838344573975, dtype=float32), array(0.75)]\n",
      "[array(2.1793832778930664, dtype=float32), array(0.75)]\n",
      "[array(2.167865037918091, dtype=float32), array(0.75)]\n",
      "[array(2.1739935874938965, dtype=float32), array(0.7578125)]\n",
      "[array(2.0171709060668945, dtype=float32), array(0.859375)]\n",
      "[array(2.1586313247680664, dtype=float32), array(0.75)]\n",
      "[array(2.1417360305786133, dtype=float32), array(0.75)]\n",
      "[array(2.1590824127197266, dtype=float32), array(0.75)]\n",
      "[array(2.1197221279144287, dtype=float32), array(0.75)]\n",
      "[array(2.0676679611206055, dtype=float32), array(0.78125)]\n",
      "[array(2.119096517562866, dtype=float32), array(0.75)]\n",
      "[array(2.114912509918213, dtype=float32), array(0.75)]\n",
      "[array(2.0365471839904785, dtype=float32), array(0.7890625)]\n",
      "[array(2.103372573852539, dtype=float32), array(0.75)]\n"
     ]
    }
   ],
   "source": [
    "for i in range(100):\n",
    "    data, roi, labels = fortop(rdl)\n",
    "    X = roi_pool(data, roi)\n",
    "    y = labels.astype('int')\n",
    "    \n",
    "    print sw.solver.stepfn(X, y)"
   ]
  },
  {
   "cell_type": "code",
   "execution_count": 17,
   "metadata": {
    "collapsed": false
   },
   "outputs": [],
   "source": [
    "sw.solver.save('test.pkl')"
   ]
  },
  {
   "cell_type": "code",
   "execution_count": null,
   "metadata": {
    "collapsed": false
   },
   "outputs": [],
   "source": []
  },
  {
   "cell_type": "code",
   "execution_count": 14,
   "metadata": {
    "collapsed": false
   },
   "outputs": [
    {
     "data": {
      "text/plain": [
       "[array(2.9968929290771484, dtype=float32), array(0.0234375)]"
      ]
     },
     "execution_count": 14,
     "metadata": {},
     "output_type": "execute_result"
    }
   ],
   "source": []
  },
  {
   "cell_type": "code",
   "execution_count": null,
   "metadata": {
    "collapsed": false
   },
   "outputs": [],
   "source": []
  },
  {
   "cell_type": "code",
   "execution_count": null,
   "metadata": {
    "collapsed": false
   },
   "outputs": [],
   "source": []
  },
  {
   "cell_type": "code",
   "execution_count": null,
   "metadata": {
    "collapsed": false
   },
   "outputs": [],
   "source": []
  },
  {
   "cell_type": "code",
   "execution_count": null,
   "metadata": {
    "collapsed": false
   },
   "outputs": [],
   "source": []
  },
  {
   "cell_type": "code",
   "execution_count": null,
   "metadata": {
    "collapsed": true
   },
   "outputs": [],
   "source": []
  },
  {
   "cell_type": "raw",
   "metadata": {
    "collapsed": false
   },
   "source": []
  },
  {
   "cell_type": "code",
   "execution_count": null,
   "metadata": {
    "collapsed": false,
    "scrolled": true
   },
   "outputs": [],
   "source": []
  },
  {
   "cell_type": "code",
   "execution_count": null,
   "metadata": {
    "collapsed": true
   },
   "outputs": [],
   "source": []
  },
  {
   "cell_type": "code",
   "execution_count": null,
   "metadata": {
    "collapsed": false
   },
   "outputs": [],
   "source": []
  },
  {
   "cell_type": "code",
   "execution_count": null,
   "metadata": {
    "collapsed": false
   },
   "outputs": [],
   "source": []
  },
  {
   "cell_type": "code",
   "execution_count": null,
   "metadata": {
    "collapsed": false
   },
   "outputs": [],
   "source": []
  },
  {
   "cell_type": "code",
   "execution_count": null,
   "metadata": {
    "collapsed": false
   },
   "outputs": [],
   "source": []
  },
  {
   "cell_type": "code",
   "execution_count": null,
   "metadata": {
    "collapsed": true
   },
   "outputs": [],
   "source": []
  }
 ],
 "metadata": {
  "kernelspec": {
   "display_name": "Python 2",
   "language": "python",
   "name": "python2"
  },
  "language_info": {
   "codemirror_mode": {
    "name": "ipython",
    "version": 2
   },
   "file_extension": ".py",
   "mimetype": "text/x-python",
   "name": "python",
   "nbconvert_exporter": "python",
   "pygments_lexer": "ipython2",
   "version": "2.7.6"
  }
 },
 "nbformat": 4,
 "nbformat_minor": 0
}
