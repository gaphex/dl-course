{
 "cells": [
  {
   "cell_type": "code",
   "execution_count": 1,
   "metadata": {
    "collapsed": false
   },
   "outputs": [
    {
     "name": "stderr",
     "output_type": "stream",
     "text": [
      "Using gpu device 1: Quadro K4200 (CNMeM is enabled with initial size: 20.0% of memory, CuDNN 4007)\n"
     ]
    }
   ],
   "source": [
    "#!/usr/bin/env python\n",
    "\n",
    "# --------------------------------------------------------\n",
    "# Fast R-CNN\n",
    "# Copyright (c) 2015 Microsoft\n",
    "# Licensed under The MIT License [see LICENSE for details]\n",
    "# Written by Ross Girshick\n",
    "# --------------------------------------------------------\n",
    "\n",
    "\"\"\"Train a Fast R-CNN network on a region of interest database.\"\"\"\n",
    "import os\n",
    "import sys\n",
    "import scipy\n",
    "import random\n",
    "import theano\n",
    "import lasagne\n",
    "import numpy as np\n",
    "import cPickle as pickle\n",
    "import theano.tensor as T\n",
    "import matplotlib.pyplot as plt\n",
    "\n",
    "from IPython import display\n",
    "from scipy.misc import imread, imsave, imresize\n",
    "from sklearn.cross_validation import train_test_split\n",
    "\n",
    "%matplotlib inline\n",
    "\n",
    "import _init_paths\n",
    "from fast_rcnn.train import get_training_roidb, train_net, filter_roidb, SolverWrapper\n",
    "from fast_rcnn.config import cfg, cfg_from_file, cfg_from_list, get_output_dir\n",
    "from datasets.factory import get_imdb\n",
    "from custom import utilities, models, net\n",
    "import datasets.imdb\n",
    "import argparse\n",
    "import pprint\n",
    "import numpy as np\n",
    "import sys\n",
    "\n",
    "def parse_args():\n",
    "    \"\"\"\n",
    "    Parse input arguments\n",
    "    \"\"\"\n",
    "    parser = argparse.ArgumentParser(description='Train a Fast R-CNN network')\n",
    "    parser.add_argument('--iters', dest='max_iters',\n",
    "                        help='number of iterations to train',\n",
    "                        default=40000, type=int)\n",
    "    parser.add_argument('--cfg', dest='./experiments/cfgs/rcnn.yml',\n",
    "                        help='optional config file',\n",
    "                        default=None, type=str)\n",
    "    parser.add_argument('--imdb', dest='imdb_name',\n",
    "                        help='dataset to train on',\n",
    "                        default='voc_2007_trainval', type=str)\n",
    "    parser.add_argument('--rand', dest='randomize',\n",
    "                        help='randomize (do not use a fixed seed)',\n",
    "                        action='store_true')\n",
    "    parser.add_argument('--set', dest='set_cfgs',\n",
    "                        help='set config keys', default=None,\n",
    "                        nargs=argparse.REMAINDER)\n",
    "\n",
    "    if len(sys.argv) == 1:\n",
    "        parser.print_help()\n",
    "        sys.exit(1)\n",
    "\n",
    "    args = parser.parse_args()\n",
    "    return args\n",
    "\n",
    "def combined_roidb(imdb_names):\n",
    "    def get_roidb(imdb_name):\n",
    "        imdb = get_imdb(imdb_name)\n",
    "        print 'Loaded dataset `{:s}` for training'.format(imdb.name)\n",
    "        imdb.set_proposal_method(cfg.TRAIN.PROPOSAL_METHOD)\n",
    "        print 'Set proposal method: {:s}'.format(cfg.TRAIN.PROPOSAL_METHOD)\n",
    "        roidb = get_training_roidb(imdb)\n",
    "        return roidb\n",
    "\n",
    "    roidbs = [get_roidb(s) for s in imdb_names.split('+')]\n",
    "    roidb = roidbs[0]\n",
    "    if len(roidbs) > 1:\n",
    "        for r in roidbs[1:]:\n",
    "            roidb.extend(r)\n",
    "        imdb = datasets.imdb.imdb(imdb_names)\n",
    "    else:\n",
    "        imdb = get_imdb(imdb_names)\n",
    "    return imdb, roidb\n",
    "\n",
    "def run_training():\n",
    "    args = parse_args()\n",
    "\n",
    "    print('Called with args:')\n",
    "    print(args)\n",
    "\n",
    "    if args.cfg_file is not None:\n",
    "        cfg_from_file(args.cfg_file)\n",
    "    if args.set_cfgs is not None:\n",
    "        cfg_from_list(args.set_cfgs)\n",
    "\n",
    "    print('Using config:')\n",
    "    pprint.pprint(cfg)\n",
    "\n",
    "    imdb, roidb = combined_roidb(args.imdb_name)\n",
    "    print '{:d} roidb entries'.format(len(roidb))\n",
    "\n",
    "    output_dir = get_output_dir(imdb)\n",
    "    print 'Output will be saved to `{:s}`'.format(output_dir)\n",
    "\n",
    "    train_net(roidb, output_dir,\n",
    "              max_iters=args.max_iters)\n",
    "\n"
   ]
  },
  {
   "cell_type": "code",
   "execution_count": null,
   "metadata": {
    "collapsed": true
   },
   "outputs": [],
   "source": []
  },
  {
   "cell_type": "code",
   "execution_count": 2,
   "metadata": {
    "collapsed": false
   },
   "outputs": [
    {
     "name": "stdout",
     "output_type": "stream",
     "text": [
      "Loaded dataset `voc_2007_trainval` for training\n",
      "Set proposal method: selective_search\n",
      "Appending horizontally-flipped training examples...\n",
      "voc_2007_trainval ss roidb loaded from /home/aphex/Projects/DeepLearning/seminar_6/data/cache/voc_2007_trainval_selective_search_roidb.pkl\n",
      "done\n",
      "Preparing training data...\n",
      "done\n",
      "10022 roidb entries\n",
      "Filtered 0 roidb entries: 10022 -> 10022\n"
     ]
    }
   ],
   "source": [
    "imdb, roidb = combined_roidb(\"voc_2007_trainval\")\n",
    "print '{:d} roidb entries'.format(len(roidb))\n",
    "output_dir = get_output_dir(imdb)\n",
    "roidb = filter_roidb(roidb)"
   ]
  },
  {
   "cell_type": "code",
   "execution_count": 16,
   "metadata": {
    "collapsed": false
   },
   "outputs": [
    {
     "name": "stdout",
     "output_type": "stream",
     "text": [
      "==========Initializing the SolverWrapper==========\n",
      "Computing bounding-box regression targets...\n",
      "bbox target means:\n",
      "[[ 0.          0.          0.          0.        ]\n",
      " [ 0.          0.00379662  0.02754976  0.06469912]\n",
      " [ 0.         -0.00138961  0.0633017   0.03448065]\n",
      " [ 0.          0.01547897  0.00778036  0.06749826]\n",
      " [ 0.         -0.00627642 -0.00140434  0.09385452]\n",
      " [ 0.         -0.00389383 -0.07596478  0.14041215]\n",
      " [ 0.          0.0029443  -0.01565004  0.09243322]\n",
      " [ 0.          0.0007864  -0.00063314  0.08758059]\n",
      " [ 0.          0.00526074  0.02774618  0.04674116]\n",
      " [ 0.          0.00073211 -0.01874643  0.07139775]\n",
      " [ 0.          0.00984952  0.00350275  0.06485032]\n",
      " [ 0.          0.01996824  0.08911847 -0.00315299]\n",
      " [ 0.          0.00077153  0.02670116  0.05070323]\n",
      " [ 0.          0.00817035 -0.00731261  0.05171875]\n",
      " [ 0.          0.00332969  0.02667745  0.04701575]\n",
      " [ 0.         -0.00740894 -0.04660295  0.11327903]\n",
      " [ 0.          0.01492526 -0.01818247  0.10909865]\n",
      " [ 0.          0.00563756  0.00209888  0.07230053]\n",
      " [ 0.          0.0038538   0.06227722  0.03895716]\n",
      " [ 0.          0.00793804  0.02038067  0.05823674]\n",
      " [ 0.          0.03336522  0.0185877   0.09977196]]\n",
      "[ 0.          0.00589198  0.00956128  0.07009383]\n",
      "bbox target stdevs:\n",
      "[[ 0.          0.          0.          0.        ]\n",
      " [ 0.10429182  0.13884976  0.19546232  0.24846316]\n",
      " [ 0.13787705  0.11812533  0.25073155  0.21386193]\n",
      " [ 0.12063248  0.12397945  0.23421384  0.22001955]\n",
      " [ 0.10970676  0.13551257  0.21562197  0.23638874]\n",
      " [ 0.11494772  0.13190373  0.2340837   0.20503944]\n",
      " [ 0.11247517  0.14144634  0.21647318  0.2359422 ]\n",
      " [ 0.10654517  0.14789623  0.19982399  0.25186402]\n",
      " [ 0.13251309  0.12801285  0.23312286  0.21437135]\n",
      " [ 0.12466176  0.12877821  0.24087155  0.21937107]\n",
      " [ 0.13213961  0.11999037  0.25694903  0.19864581]\n",
      " [ 0.13376679  0.13721825  0.21322104  0.25838991]\n",
      " [ 0.13755451  0.12160496  0.24604963  0.20659868]\n",
      " [ 0.13627398  0.11913102  0.26239377  0.20347603]\n",
      " [ 0.12787941  0.12926972  0.23865259  0.22461552]\n",
      " [ 0.12581446  0.13600656  0.24769766  0.21732817]\n",
      " [ 0.11453647  0.1436564   0.22491497  0.23493856]\n",
      " [ 0.11854889  0.11967648  0.2260704   0.20548384]\n",
      " [ 0.12219251  0.14458762  0.20632271  0.25510104]\n",
      " [ 0.12203954  0.14012136  0.21632582  0.24377391]\n",
      " [ 0.09862293  0.11559111  0.20505557  0.23087311]]\n",
      "[ 0.12165101  0.13106792  0.22820291  0.2262273 ]\n",
      "Normalizing targets\n",
      "done\n",
      "Initializing NNet\n",
      "loaded weights from /home/aphex/Projects/DeepLearning/seminar_6/output/rcnn/voc_2007_trainval/caffe_reference.pkl\n",
      "Patching Net\n",
      "RoiDataLayer: name_to_top: {'bbox_inside_weights': 4, 'labels': 2, 'rois': 1, 'bbox_targets': 3, 'bbox_outside_weights': 5, 'data': 0}\n"
     ]
    }
   ],
   "source": [
    "sw = SolverWrapper(roidb, output_dir)\n",
    "rdl = sw.solver.roi_data_layer"
   ]
  },
  {
   "cell_type": "code",
   "execution_count": null,
   "metadata": {
    "collapsed": false
   },
   "outputs": [],
   "source": []
  },
  {
   "cell_type": "code",
   "execution_count": null,
   "metadata": {
    "collapsed": true
   },
   "outputs": [],
   "source": []
  },
  {
   "cell_type": "code",
   "execution_count": null,
   "metadata": {
    "collapsed": false
   },
   "outputs": [],
   "source": []
  },
  {
   "cell_type": "code",
   "execution_count": 4,
   "metadata": {
    "collapsed": false
   },
   "outputs": [],
   "source": [
    "from copy import deepcopy\n",
    "import cv2\n",
    "\n",
    "def fortop(rdl):\n",
    "    rdl.forward()\n",
    "    return deepcopy(rdl.top[:3])\n",
    "\n",
    "def roi_layer(dat, RoI):\n",
    "\n",
    "    s = 227\n",
    "    l = len(RoI)\n",
    "    out = []\n",
    "\n",
    "    z = np.zeros((l,3,s,s))\n",
    "\n",
    "    for r in RoI:\n",
    "        ind, left, top, right, bottom = int(r[0]), int(r[1]), int(r[2]),int(r[3]),int(r[4])\n",
    "        d = dat[ind]\n",
    "        pic = d[:, top:bottom, left:right]\n",
    "        pr = cv2.resize(pic.transpose(1,2,0), (s, s), interpolation=cv2.INTER_LINEAR).transpose((2, 0, 1))\n",
    "        out.append(pr)\n",
    "\n",
    "    z[:] = out\n",
    "    return z"
   ]
  },
  {
   "cell_type": "code",
   "execution_count": 15,
   "metadata": {
    "collapsed": false
   },
   "outputs": [],
   "source": [
    "%load_ext autoreload\n",
    "%autoreload 2"
   ]
  },
  {
   "cell_type": "code",
   "execution_count": null,
   "metadata": {
    "collapsed": false
   },
   "outputs": [],
   "source": []
  },
  {
   "cell_type": "code",
   "execution_count": null,
   "metadata": {
    "collapsed": false
   },
   "outputs": [],
   "source": []
  },
  {
   "cell_type": "code",
   "execution_count": 6,
   "metadata": {
    "collapsed": false
   },
   "outputs": [],
   "source": [
    "data, roi, labels = fortop(rdl)"
   ]
  },
  {
   "cell_type": "code",
   "execution_count": 7,
   "metadata": {
    "collapsed": false
   },
   "outputs": [],
   "source": [
    "zz = roi_layer(data, roi)"
   ]
  },
  {
   "cell_type": "code",
   "execution_count": null,
   "metadata": {
    "collapsed": false,
    "scrolled": false
   },
   "outputs": [],
   "source": []
  },
  {
   "cell_type": "code",
   "execution_count": 22,
   "metadata": {
    "collapsed": false
   },
   "outputs": [
    {
     "data": {
      "text/plain": [
       "array([ 15.,  15.,  15.,  16.,  16.,  15.,  15.,  15.,  16.,  15.,  15.,\n",
       "        16.,  15.,  15.,  16.,  15.,   0.,   0.,   0.,   0.,   0.,   0.,\n",
       "         0.,   0.,   0.,   0.,   0.,   0.,   0.,   0.,   0.,   0.,   0.,\n",
       "         0.,   0.,   0.,   0.,   0.,   0.,   0.,   0.,   0.,   0.,   0.,\n",
       "         0.,   0.,   0.,   0.,   0.,   0.,   0.,   0.,   0.,   0.,   0.,\n",
       "         0.,   0.,   0.,   0.,   0.,   0.,   0.,   0.,   0.,  13.,  13.,\n",
       "        15.,  13.,  13.,  13.,  13.,  15.,  15.,  13.,  13.,  13.,  15.,\n",
       "        13.,  13.,  15.,   0.,   0.,   0.,   0.,   0.,   0.,   0.,   0.,\n",
       "         0.,   0.,   0.,   0.,   0.,   0.,   0.,   0.,   0.,   0.,   0.,\n",
       "         0.,   0.,   0.,   0.,   0.,   0.,   0.,   0.,   0.,   0.,   0.,\n",
       "         0.,   0.,   0.,   0.,   0.,   0.,   0.,   0.,   0.,   0.,   0.,\n",
       "         0.,   0.,   0.,   0.,   0.,   0.,   0.], dtype=float32)"
      ]
     },
     "execution_count": 22,
     "metadata": {},
     "output_type": "execute_result"
    }
   ],
   "source": [
    "labels"
   ]
  },
  {
   "cell_type": "code",
   "execution_count": 17,
   "metadata": {
    "collapsed": false
   },
   "outputs": [],
   "source": [
    "p = sw.solver.predfn(zz)"
   ]
  },
  {
   "cell_type": "code",
   "execution_count": 28,
   "metadata": {
    "collapsed": false
   },
   "outputs": [
    {
     "data": {
      "text/plain": [
       "1.0000001"
      ]
     },
     "execution_count": 28,
     "metadata": {},
     "output_type": "execute_result"
    }
   ],
   "source": [
    "np.sum(p[0][0])"
   ]
  },
  {
   "cell_type": "code",
   "execution_count": null,
   "metadata": {
    "collapsed": false
   },
   "outputs": [],
   "source": []
  },
  {
   "cell_type": "code",
   "execution_count": null,
   "metadata": {
    "collapsed": false
   },
   "outputs": [],
   "source": []
  },
  {
   "cell_type": "code",
   "execution_count": null,
   "metadata": {
    "collapsed": false
   },
   "outputs": [],
   "source": []
  },
  {
   "cell_type": "code",
   "execution_count": null,
   "metadata": {
    "collapsed": false
   },
   "outputs": [],
   "source": []
  },
  {
   "cell_type": "code",
   "execution_count": null,
   "metadata": {
    "collapsed": false
   },
   "outputs": [],
   "source": [
    "dp = deprocess(zz[100], typ='int32')"
   ]
  },
  {
   "cell_type": "code",
   "execution_count": null,
   "metadata": {
    "collapsed": false
   },
   "outputs": [],
   "source": [
    "plt.imshow(dp)\n",
    "plt.show()"
   ]
  },
  {
   "cell_type": "raw",
   "metadata": {
    "collapsed": false
   },
   "source": []
  },
  {
   "cell_type": "code",
   "execution_count": null,
   "metadata": {
    "collapsed": false,
    "scrolled": true
   },
   "outputs": [],
   "source": []
  },
  {
   "cell_type": "code",
   "execution_count": null,
   "metadata": {
    "collapsed": true
   },
   "outputs": [],
   "source": []
  },
  {
   "cell_type": "code",
   "execution_count": null,
   "metadata": {
    "collapsed": false
   },
   "outputs": [],
   "source": []
  },
  {
   "cell_type": "code",
   "execution_count": null,
   "metadata": {
    "collapsed": false
   },
   "outputs": [],
   "source": []
  },
  {
   "cell_type": "code",
   "execution_count": null,
   "metadata": {
    "collapsed": false
   },
   "outputs": [],
   "source": []
  },
  {
   "cell_type": "code",
   "execution_count": null,
   "metadata": {
    "collapsed": false
   },
   "outputs": [],
   "source": []
  },
  {
   "cell_type": "code",
   "execution_count": null,
   "metadata": {
    "collapsed": true
   },
   "outputs": [],
   "source": []
  }
 ],
 "metadata": {
  "kernelspec": {
   "display_name": "Python 2",
   "language": "python",
   "name": "python2"
  },
  "language_info": {
   "codemirror_mode": {
    "name": "ipython",
    "version": 2
   },
   "file_extension": ".py",
   "mimetype": "text/x-python",
   "name": "python",
   "nbconvert_exporter": "python",
   "pygments_lexer": "ipython2",
   "version": "2.7.6"
  }
 },
 "nbformat": 4,
 "nbformat_minor": 0
}
