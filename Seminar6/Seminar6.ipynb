{
 "cells": [
  {
   "cell_type": "markdown",
   "metadata": {},
   "source": [
    "Seminar 6: Hacking R-CNN\n",
    "====================\n",
    "\n",
    "**WARNING: This seminar was not thoroughly tested so expect weird bugs. Please report if you found one!**\n",
    "\n",
    "In this assignment, you will hack the existing code for object detection (https://github.com/rbgirshick/py-faster-rcnn) in order to make it usable with **Theano**-based models.\n",
    "\n",
    "Originally, Ross Girshick uses [Caffe](http://caffe.berkeleyvision.org/) as a backend for deep learning. This is not very good for us as Caffe is substantially different from Theano, and one cannot simply replace one framework with the other. Luckily, the training and the testing procedures are built on top of the [Python interface](http://caffe.berkeleyvision.org/tutorial/interfaces.html) (instead of the Caffe's native CLI+protobufs combo) which makes it possible to locate and exterminate Caffe-contaminated parts and fill the gaps with appropriate wrappers around Theano machinery.\n",
    "\n",
    "While it sounds like an easy task, this surgery still requires good familiarity with the RCNN's internals, so you will have to go through the Rob's slides and the code and make sure that you understand what is happening in each of the modules."
   ]
  },
  {
   "cell_type": "code",
   "execution_count": 1,
   "metadata": {
    "collapsed": false
   },
   "outputs": [
    {
     "name": "stderr",
     "output_type": "stream",
     "text": [
      "Using gpu device 0: Quadro K4200 (CNMeM is enabled with initial size: 10.0% of memory, CuDNN 4007)\n"
     ]
    }
   ],
   "source": [
    "import os\n",
    "import sys\n",
    "import scipy\n",
    "import random\n",
    "import theano\n",
    "import lasagne\n",
    "import numpy as np\n",
    "import cPickle as pickle\n",
    "import theano.tensor as T\n",
    "import matplotlib.pyplot as plt\n",
    "\n",
    "from IPython import display\n",
    "from scipy.misc import imread, imsave, imresize\n",
    "from sklearn.cross_validation import train_test_split\n",
    "from custom import utils, models, net\n",
    "\n",
    "%matplotlib inline"
   ]
  },
  {
   "cell_type": "markdown",
   "metadata": {},
   "source": [
    "R-CNN introduction\n",
    "--------------------\n",
    "\n",
    "In a nutshell, R-CNN is just a common image recognition neural network applied to patches that obtained by rescaling rectangular regions of a bigger scene. Those regions are usually computed externally using, for example, [Selective Search](https://ivi.fnwi.uva.nl/isis/publications/2013/UijlingsIJCV2013/). The overall pipeline is best described by the following slide from the Girshick's [awesome presentation](http://tutorial.caffe.berkeleyvision.org/caffe-cvpr15-detection.pdf):\n",
    "<img src=\"notebook/img/rcnn_slide.jpg\" width=600px><img>\n",
    "\n",
    "You are encouraged to read the [relevant paper](http://www.cs.berkeley.edu/~rbg/papers/pami/rcnn_pami.pdf) to get deeper understanding of how the system works."
   ]
  },
  {
   "cell_type": "markdown",
   "metadata": {},
   "source": [
    "Setup the code\n",
    "--------------------\n",
    "\n",
    "### Cython modules\n",
    "\n",
    "First, we need to build Cython modules that come with the original Faster R-CNN package."
   ]
  },
  {
   "cell_type": "code",
   "execution_count": 20,
   "metadata": {
    "collapsed": false,
    "scrolled": true
   },
   "outputs": [
    {
     "name": "stdout",
     "output_type": "stream",
     "text": [
      "python setup.py build_ext --inplace\n",
      "running build_ext\n",
      "skipping 'utils/bbox.c' Cython extension (up-to-date)\n",
      "skipping 'nms/cpu_nms.c' Cython extension (up-to-date)\n",
      "rm -rf build\n"
     ]
    }
   ],
   "source": [
    "!cd ./lib; make"
   ]
  },
  {
   "cell_type": "markdown",
   "metadata": {},
   "source": [
    "### PASCAL VOC 2007\n",
    "\n",
    "In our experiments, we are going to use [PASCAL VOC 2007](http://host.robots.ox.ac.uk/pascal/VOC/voc2007/) so we download training, validation and test data as well as VOCdevkit (**this may take a while!**). We are assuming you have the `wget` utility installed on your computer."
   ]
  },
  {
   "cell_type": "code",
   "execution_count": 42,
   "metadata": {
    "collapsed": false
   },
   "outputs": [
    {
     "data": {
      "text/plain": [
       "'~/Projects/DeepLearning/seminar_6/downloads/VOCdevkit'"
      ]
     },
     "execution_count": 42,
     "metadata": {},
     "output_type": "execute_result"
    }
   ],
   "source": [
    "os.path.join('~/Projects/DeepLearning/seminar_6/downloads', 'VOCdevkit')"
   ]
  },
  {
   "cell_type": "code",
   "execution_count": 46,
   "metadata": {
    "collapsed": false
   },
   "outputs": [],
   "source": [
    "# If you already have the dataset on your machine just put the absolute path (root path - w/o VOCdevkit) \n",
    "# into the following variable:\n",
    "PASCALVOC2007_PATH='~/Projects/DeepLearning/seminar_6/downloads'\n",
    "\n",
    "if not PASCALVOC2007_PATH:\n",
    "    # You can change the download target path.\n",
    "    PASCALVOC2007_PATH='./downloads'\n",
    "    \n",
    "    #!mkdir -p {PASCALVOC2007_PATH}\n",
    "    #!wget http://host.robots.ox.ac.uk/pascal/VOC/voc2007/VOCtrainval_06-Nov-2007.tar {PASCALVOC2007_PATH}\n",
    "    #!wget http://host.robots.ox.ac.uk/pascal/VOC/voc2007/VOCtest_06-Nov-2007.tar {PASCALVOC2007_PATH}\n",
    "    #!wget http://host.robots.ox.ac.uk/pascal/VOC/voc2007/VOCdevkit_08-Jun-2007.tar {PASCALVOC2007_PATH}\n",
    "    \n",
    "    !cd {PASCALVOC2007_PATH}; tar xvf VOCtrainval_06-Nov-2007.tar\n",
    "    !cd {PASCALVOC2007_PATH}; tar xvf VOCtest_06-Nov-2007.tar\n",
    "    !cd {PASCALVOC2007_PATH}; tar xvf VOCdevkit_08-Jun-2007.tar\n",
    "    \n",
    "# We symlink the dataset path to the folder that is expected by the R-CNN code.\n",
    "VOCDEVKIT_PATH = os.path.join(PASCALVOC2007_PATH, 'VOCdevkit')\n",
    "!ln -f -s {VOCDEVKIT_PATH} ./data/VOCdevkit2007"
   ]
  },
  {
   "cell_type": "markdown",
   "metadata": {},
   "source": [
    "### Region proposals\n",
    "\n",
    "Next, you need to fetch some external region proposals. The original code uses Selective Search by default. You can download and setup this data by running the cell below. It is very time-consuming, so go have some coffee."
   ]
  },
  {
   "cell_type": "code",
   "execution_count": null,
   "metadata": {
    "collapsed": false
   },
   "outputs": [],
   "source": [
    "# Alternatively, you can ask people who have already downloaded the data to share it. \n",
    "# Then you can just put it in the ./data folder and skip this step.\n",
    "!data/scripts/fetch_selective_search_data.sh"
   ]
  },
  {
   "cell_type": "markdown",
   "metadata": {},
   "source": [
    "Other option would be to use precomuted [RPN proposals](https://github.com/ShaoqingRen/faster_rcnn#resources). Fetch them from [here](https://yadi.sk/d/ENCF0DTXr323P) and unpack to the `./data` folder. The advantage of using them is that you only need **300** entities per image (instead of **2000**) to get a good performance.\n",
    "\n",
    "### Pretrained base models\n",
    "\n",
    "Finally, you need to download one of the pretrained NNs that we will use a starting point for our object detection pipeline. As we are using Lasagne, it's a good idea to check out [Lasagne's ModelZoo](https://github.com/Lasagne/Recipes/tree/master/modelzoo). We suggest not to go crazy and use a moderately-sized model like `caffe_reference` (or even shallower). We all want to set the new state-of-the-art for Object Detection, but let's start small."
   ]
  },
  {
   "cell_type": "code",
   "execution_count": 10,
   "metadata": {
    "collapsed": false
   },
   "outputs": [],
   "source": [
    "ll = lasagne.layers.InputLayer(shape=(None, 3, 227, 227), tag='13')"
   ]
  },
  {
   "cell_type": "code",
   "execution_count": 5,
   "metadata": {
    "collapsed": true
   },
   "outputs": [],
   "source": [
    "import cPickle\n",
    "\n",
    "def load_obj(fname):\n",
    "    try:\n",
    "        f = file(fname, 'rb')\n",
    "        loaded_obj = cPickle.load(f)\n",
    "        f.close()\n",
    "        return loaded_obj\n",
    "    except Exception as e:\n",
    "        print e\n",
    "        return 0"
   ]
  },
  {
   "cell_type": "code",
   "execution_count": 4,
   "metadata": {
    "collapsed": false
   },
   "outputs": [],
   "source": []
  },
  {
   "cell_type": "code",
   "execution_count": null,
   "metadata": {
    "collapsed": true
   },
   "outputs": [],
   "source": []
  },
  {
   "cell_type": "code",
   "execution_count": null,
   "metadata": {
    "collapsed": false
   },
   "outputs": [],
   "source": []
  },
  {
   "cell_type": "code",
   "execution_count": null,
   "metadata": {
    "collapsed": false
   },
   "outputs": [],
   "source": []
  },
  {
   "cell_type": "code",
   "execution_count": 55,
   "metadata": {
    "collapsed": true
   },
   "outputs": [],
   "source": [
    "# building caffe reference model and loading weights\n",
    "ref_net = net.Net('caffe_reference.pkl')"
   ]
  },
  {
   "cell_type": "code",
   "execution_count": 48,
   "metadata": {
    "collapsed": false
   },
   "outputs": [],
   "source": [
    "p = theano.function([ref_net.inp], ref_net.prediction, allow_input_downcast=True) "
   ]
  },
  {
   "cell_type": "code",
   "execution_count": 64,
   "metadata": {
    "collapsed": false
   },
   "outputs": [
    {
     "data": {
      "image/png": "[encoded data removed]",
      "text/plain": [
       "<matplotlib.figure.Figure at 0x7f124c7fb8d0>"
      ]
     },
     "metadata": {},
     "output_type": "display_data"
    },
    {
     "name": "stdout",
     "output_type": "stream",
     "text": [
      "net thinks this is a tabby, tabby cat\n"
     ]
    }
   ],
   "source": [
    "# sanity check\n",
    "img = imread('../seminar_5/sample_images/kitten.jpg')\n",
    "classes = pickle.load(open('../seminar_5/classes.pkl'))\n",
    "plt.imshow(img)\n",
    "plt.show()\n",
    "\n",
    "print 'net thinks this is a', classes[np.argmax(p(utils.preprocess(img, 227, 227)))]"
   ]
  },
  {
   "cell_type": "markdown",
   "metadata": {},
   "source": [
    "yay"
   ]
  },
  {
   "cell_type": "markdown",
   "metadata": {},
   "source": [
    "Write your modules\n",
    "--------------------\n",
    "\n",
    "The most interesting part of the assignment is, of course, the custom model injection. As we already mentioned, the original code uses Caffe. We (the TAs) did our best to get rid of this nasty dependency. **Now, spend some time comparing the code provided by us and the [Faster R-CNN repo](https://github.com/rbgirshick/py-faster-rcnn).** The code makes heavy use of the configuration files available by calling `from fast_rcnn.config import cfg`. The `cfg` contains various parameters that govern the behaviour of the whole system. The standard configuration is defined in `./lib/fast_rcnn/config.py`. In order to override it use `./experiments/cfgs/rcnn.yml`.\n",
    "\n",
    "You'll have to\n",
    "  1. Add missing pieces to `./lib/utils/train.py` (this is where the main training loop is).\n",
    "  2. Implement the network (`./custom/net.py`) and the solver (`./custom/solver.py`) class respecting the interface described in the source files. **You are NOT required to code up the bounding-box regression.** \n",
    "  3. Repeat the steps above for two kinds of training regimes:\n",
    "    - Fine-tuning of the top layer.\n",
    "    - Fine-tuning of the whole network.\n",
    "    \n",
    "### Custom classes\n",
    "  \n",
    "The main purpose of the **`Net`** class is to hold a symbolic representation of your neural network. This is where you load a pretrained NN optionally modifying its architecture or weights.\n",
    " \n",
    "The **`Solver`** is used to define actual training procedure:\n",
    "  1. Create an instance of **`Net`**\n",
    "  2. Define a loss function\n",
    "  3. Define an optimization algorithm and its parameters\n",
    "  4. Gather all of the above into the training step function\n",
    "  \n",
    "### ROIDataLayer\n",
    "\n",
    "Your solver is likely to require some kind of training data source. In the orginial Girshick's code this data is obtained via **`ROIDataLayer`**. The **`ROIDataLayer`** takes care of the dataset management and produces tensors that are ready for the neural net processing. We are providing you with an adapted version of this layer suitable for incorporating into your custom modules. The typical usage is outlined below:"
   ]
  },
  {
   "cell_type": "markdown",
   "metadata": {
    "collapsed": false
   },
   "source": [
    "right"
   ]
  },
  {
   "cell_type": "code",
   "execution_count": null,
   "metadata": {
    "collapsed": false
   },
   "outputs": [],
   "source": []
  },
  {
   "cell_type": "code",
   "execution_count": null,
   "metadata": {
    "collapsed": false
   },
   "outputs": [],
   "source": []
  },
  {
   "cell_type": "markdown",
   "metadata": {},
   "source": [
    "### Some tips\n",
    "  1. Please **be careful with the input format**. Make sure that your network receives what it expects, i.e. check the order of color channels (`RGB`/`BGR`), range of values ($ [0, 1] $/ $ [0, 255] $), etc.\n",
    "  2. Try Dropout to reduce overfitting.\n",
    "  3. Try different optimization algorithms. `Adam` seems to require less tuning but may give slightly worse results than `SGD`."
   ]
  },
  {
   "cell_type": "markdown",
   "metadata": {},
   "source": [
    "Train model\n",
    "--------------------\n",
    "\n",
    "Now it's time to train your freshly written model. First, edit `./experiments/cfgs/rcnn.yml` to override the standard settings.\n",
    "\n",
    "The training procedure is launched by invoking the following shell-command:"
   ]
  },
  {
   "cell_type": "code",
   "execution_count": 4,
   "metadata": {
    "collapsed": false
   },
   "outputs": [
    {
     "name": "stdout",
     "output_type": "stream",
     "text": [
      "+ set -e\n",
      "+ export PYTHONUNBUFFERED=True\n",
      "+ PYTHONUNBUFFERED=True\n",
      "+ ITERS=250\n",
      "+ TRAIN_IMDB=voc_2007_trainval\n",
      "++ date +%Y-%m-%d_%H-%M-%S\n",
      "+ LOG=experiments/logs/rcnn.train.txt.2016-04-22_18-28-03\n",
      "+ exec\n",
      "++ tee -a experiments/logs/rcnn.train.txt.2016-04-22_18-28-03\n",
      "tee: experiments/logs/rcnn.train.txt.2016-04-22_18-28-03: No such file or directory\n",
      "+ echo Logging output to experiments/logs/rcnn.train.txt.2016-04-22_18-28-03\n",
      "Logging output to experiments/logs/rcnn.train.txt.2016-04-22_18-28-03\n",
      "+ ./tools/train_net.py --imdb voc_2007_trainval --iters 250 --cfg ./experiments/cfgs/rcnn.yml\n",
      "Using gpu device 1: Quadro K4200 (CNMeM is enabled with initial size: 20.0% of memory, CuDNN 4007)\n",
      "Called with args:\n",
      "Namespace(cfg_file='./experiments/cfgs/rcnn.yml', imdb_name='voc_2007_trainval', max_iters=250, randomize=False, set_cfgs=None)\n",
      "Using config:\n",
      "{'DATA_DIR': '/home/aphex/Projects/DeepLearning/seminar_6/data',\n",
      " 'DEDUP_BOXES': 0.0625,\n",
      " 'EPS': 1e-14,\n",
      " 'EXP_DIR': 'rcnn',\n",
      " 'GPU_ID': 1,\n",
      " 'MODELS_DIR': '/home/aphex/Projects/DeepLearning/seminar_6/models/pascal_voc',\n",
      " 'NUM_CLASSES': 21,\n",
      " 'PIXEL_MEANS': array([[[ 102.9801,  115.9465,  122.7717]]]),\n",
      " 'RNG_SEED': 3,\n",
      " 'ROOT_DIR': '/home/aphex/Projects/DeepLearning/seminar_6',\n",
      " 'TEST': {'BBOX_REG': False,\n",
      "          'MAX_SIZE': 1000,\n",
      "          'NMS': 0.3,\n",
      "          'PROPOSAL_METHOD': 'selective_search',\n",
      "          'SCALES': [600],\n",
      "          'SVM': False},\n",
      " 'TRAIN': {'ASPECT_GROUPING': True,\n",
      "           'BATCH_SIZE': 128,\n",
      "           'BBOX_INSIDE_WEIGHTS': [1.0, 1.0, 1.0, 1.0],\n",
      "           'BBOX_NORMALIZE_MEANS': [0.0, 0.0, 0.0, 0.0],\n",
      "           'BBOX_NORMALIZE_STDS': [0.1, 0.1, 0.2, 0.2],\n",
      "           'BBOX_NORMALIZE_TARGETS': True,\n",
      "           'BBOX_NORMALIZE_TARGETS_PRECOMPUTED': False,\n",
      "           'BBOX_REG': False,\n",
      "           'BBOX_THRESH': 0.5,\n",
      "           'BG_THRESH_HI': 0.5,\n",
      "           'BG_THRESH_LO': 0.1,\n",
      "           'FG_FRACTION': 0.25,\n",
      "           'FG_THRESH': 0.5,\n",
      "           'IMS_PER_BATCH': 128,\n",
      "           'MAX_SIZE': 1000,\n",
      "           'PROPOSAL_METHOD': 'selective_search',\n",
      "           'SCALES': [600],\n",
      "           'SNAPSHOT_INFIX': '',\n",
      "           'SNAPSHOT_ITERS': 250,\n",
      "           'USE_FLIPPED': True},\n",
      " 'USE_GPU_NMS': False}\n",
      "Loaded dataset `voc_2007_trainval` for training\n",
      "Set proposal method: selective_search\n",
      "Appending horizontally-flipped training examples...\n",
      "voc_2007_trainval ss roidb loaded from /home/aphex/Projects/DeepLearning/seminar_6/data/cache/voc_2007_trainval_selective_search_roidb.pkl\n",
      "done\n",
      "Preparing training data...\n",
      "done\n",
      "10022 roidb entries\n",
      "Output will be saved to `/home/aphex/Projects/DeepLearning/seminar_6/output/rcnn/voc_2007_trainval`\n",
      "Filtered 0 roidb entries: 10022 -> 10022\n",
      "==========Initializing the SolverWrapper==========\n",
      "Initializing Net\n",
      "Patching Net\n",
      "loaded weights from /home/aphex/Projects/DeepLearning/seminar_6/output/rcnn/voc_2007_trainval/snapshot_iter_250.pkl\n",
      "RoiDataLayer: name_to_top: {'rois': 1, 'labels': 2, 'data': 0}\n",
      "Solving...\n",
      "/home/aphex/Projects/DeepLearning/seminar_6/tools/../lib/roi_data_layer/minibatch.py:89: VisibleDeprecationWarning: using a non-integer number instead of an integer will result in an error in the future\n",
      "  fg_inds, size=fg_rois_per_this_image, replace=False)\n",
      "/home/aphex/Projects/DeepLearning/seminar_6/tools/../lib/roi_data_layer/minibatch.py:102: VisibleDeprecationWarning: using a non-integer number instead of an integer will result in an error in the future\n",
      "  bg_inds, size=bg_rois_per_this_image, replace=False)\n",
      "/home/aphex/Projects/DeepLearning/seminar_6/tools/../lib/roi_data_layer/minibatch.py:109: VisibleDeprecationWarning: using a non-integer number instead of an integer will result in an error in the future\n",
      "  labels[fg_rois_per_this_image:] = 0\n",
      "Iteration 1     Train loss: 0.00305858254433 Train acc: 1.0\n",
      "Iteration 2     Train loss: 0.0134732220322 Train acc: 1.0\n",
      "Iteration 3     Train loss: 0.00157413026318 Train acc: 1.0\n",
      "Iteration 4     Train loss: 0.0092621576041 Train acc: 1.0\n",
      "Iteration 5     Train loss: 0.00581345707178 Train acc: 1.0\n",
      "Iteration 6     Train loss: 0.00589920347556 Train acc: 1.0\n",
      "Iteration 7     Train loss: 0.0109090022743 Train acc: 1.0\n",
      "Iteration 8     Train loss: 0.00418807007372 Train acc: 1.0\n",
      "Iteration 9     Train loss: 0.00273019634187 Train acc: 1.0\n",
      "Iteration 10    Train loss: 0.00114001624752 Train acc: 1.0\n",
      "speed: 3.143s / iter\n",
      "Iteration 11    Train loss: 0.00227280287072 Train acc: 1.0\n",
      "Iteration 12    Train loss: 0.00373572693206 Train acc: 1.0\n",
      "Iteration 13    Train loss: 0.0138797303662 Train acc: 1.0\n",
      "Iteration 14    Train loss: 0.00495826452971 Train acc: 1.0\n",
      "Iteration 15    Train loss: 0.00145656103268 Train acc: 1.0\n",
      "Iteration 16    Train loss: 0.00879230629653 Train acc: 1.0\n",
      "Iteration 17    Train loss: 0.00242834328674 Train acc: 1.0\n",
      "Iteration 18    Train loss: 0.00193165824749 Train acc: 1.0\n",
      "Iteration 19    Train loss: 0.00338460854255 Train acc: 1.0\n",
      "Iteration 20    Train loss: 0.00227065430954 Train acc: 1.0\n",
      "speed: 3.126s / iter\n",
      "Iteration 21    Train loss: 0.011008542031 Train acc: 1.0\n",
      "Iteration 22    Train loss: 0.00266303122044 Train acc: 1.0\n",
      "Iteration 23    Train loss: 0.00286357989535 Train acc: 1.0\n",
      "Iteration 24    Train loss: 0.0331497043371 Train acc: 0.9921875\n",
      "Iteration 25    Train loss: 0.0106696859002 Train acc: 1.0\n",
      "Iteration 26    Train loss: 0.00257282005623 Train acc: 1.0\n",
      "Iteration 27    Train loss: 0.00296891434118 Train acc: 1.0\n",
      "Iteration 28    Train loss: 0.00651492457837 Train acc: 1.0\n",
      "Iteration 29    Train loss: 0.00870288815349 Train acc: 1.0\n",
      "Iteration 30    Train loss: 0.00195326679386 Train acc: 1.0\n",
      "speed: 3.191s / iter\n",
      "Iteration 31    Train loss: 0.00717836385593 Train acc: 1.0\n",
      "Iteration 32    Train loss: 0.00467802537605 Train acc: 1.0\n",
      "Iteration 33    Train loss: 0.00798959378153 Train acc: 0.9921875\n",
      "Iteration 34    Train loss: 0.0136372335255 Train acc: 1.0\n",
      "Iteration 35    Train loss: 0.00340733258054 Train acc: 1.0\n",
      "Iteration 36    Train loss: 0.00160289241467 Train acc: 1.0\n",
      "Iteration 37    Train loss: 0.00988857913762 Train acc: 1.0\n",
      "Iteration 38    Train loss: 0.00385710434057 Train acc: 0.9921875\n",
      "Iteration 39    Train loss: 0.00291746179573 Train acc: 1.0\n",
      "Iteration 40    Train loss: 0.00311353127472 Train acc: 1.0\n",
      "speed: 3.229s / iter\n",
      "Iteration 41    Train loss: 0.00267510209233 Train acc: 1.0\n",
      "Iteration 42    Train loss: 0.00357984239236 Train acc: 1.0\n",
      "Iteration 43    Train loss: 0.00150729587767 Train acc: 1.0\n",
      "Iteration 44    Train loss: 0.00503547815606 Train acc: 1.0\n",
      "Iteration 45    Train loss: 0.0112656317651 Train acc: 0.9921875\n",
      "Iteration 46    Train loss: 0.00727464491501 Train acc: 1.0\n",
      "Iteration 47    Train loss: 0.00255657965317 Train acc: 1.0\n",
      "Iteration 48    Train loss: 0.00607152096927 Train acc: 1.0\n",
      "Iteration 49    Train loss: 0.0175051167607 Train acc: 1.0\n",
      "Iteration 50    Train loss: 0.00451052933931 Train acc: 1.0\n",
      "speed: 3.352s / iter\n",
      "Iteration 51    Train loss: 0.00287114456296 Train acc: 1.0\n",
      "Iteration 52    Train loss: 0.0253103841096 Train acc: 0.9921875\n",
      "Iteration 53    Train loss: 0.00199190783314 Train acc: 1.0\n",
      "Iteration 54    Train loss: 0.00354498950765 Train acc: 1.0\n",
      "Iteration 55    Train loss: 0.00830508954823 Train acc: 1.0\n",
      "Iteration 56    Train loss: 0.00177486101165 Train acc: 1.0\n",
      "Iteration 57    Train loss: 0.00179575697985 Train acc: 1.0\n",
      "Iteration 58    Train loss: 0.00299556576647 Train acc: 1.0\n",
      "Iteration 59    Train loss: 0.010186785832 Train acc: 1.0\n",
      "Iteration 60    Train loss: 0.00691886758432 Train acc: 1.0\n",
      "speed: 3.638s / iter\n",
      "Iteration 61    Train loss: 0.00910328142345 Train acc: 1.0\n",
      "Iteration 62    Train loss: 0.00919816643 Train acc: 1.0\n",
      "Iteration 63    Train loss: 0.00132714398205 Train acc: 1.0\n",
      "Iteration 64    Train loss: 0.00589943025261 Train acc: 1.0\n",
      "Iteration 65    Train loss: 0.00436724955216 Train acc: 1.0\n",
      "Iteration 66    Train loss: 0.00237261340953 Train acc: 1.0\n",
      "Iteration 67    Train loss: 0.00447192136198 Train acc: 1.0\n",
      "Iteration 68    Train loss: 0.0038144167047 Train acc: 1.0\n",
      "Iteration 69    Train loss: 0.0131060965359 Train acc: 1.0\n",
      "Iteration 70    Train loss: 0.00370934442617 Train acc: 1.0\n",
      "speed: 3.895s / iter\n",
      "Iteration 71    Train loss: 0.00473269307986 Train acc: 1.0\n",
      "Iteration 72    Train loss: 0.00372682046145 Train acc: 1.0\n",
      "Iteration 73    Train loss: 0.00653173262253 Train acc: 1.0\n",
      "Iteration 74    Train loss: 0.00394492968917 Train acc: 1.0\n",
      "Iteration 75    Train loss: 0.00411345483735 Train acc: 1.0\n",
      "Iteration 76    Train loss: 0.00689334981143 Train acc: 1.0\n",
      "Iteration 77    Train loss: 0.00101514765993 Train acc: 1.0\n",
      "Iteration 78    Train loss: 0.00593776348978 Train acc: 1.0\n",
      "Iteration 79    Train loss: 0.00300315138884 Train acc: 1.0\n",
      "Iteration 80    Train loss: 0.00827078893781 Train acc: 1.0\n",
      "speed: 4.068s / iter\n",
      "Iteration 81    Train loss: 0.0052669220604 Train acc: 1.0\n",
      "Iteration 82    Train loss: 0.00814690254629 Train acc: 1.0\n",
      "Iteration 83    Train loss: 0.00302814412862 Train acc: 1.0\n",
      "Iteration 84    Train loss: 0.00214066333137 Train acc: 1.0\n",
      "Iteration 85    Train loss: 0.000964648788795 Train acc: 1.0\n",
      "Iteration 86    Train loss: 0.00793255493045 Train acc: 1.0\n",
      "Iteration 87    Train loss: 0.0101386215538 Train acc: 1.0\n",
      "Iteration 88    Train loss: 0.030861960724 Train acc: 0.984375\n",
      "Iteration 89    Train loss: 0.00107294949703 Train acc: 1.0\n",
      "Iteration 90    Train loss: 0.00496704503894 Train acc: 1.0\n",
      "speed: 4.211s / iter\n",
      "Iteration 91    Train loss: 0.0037705632858 Train acc: 1.0\n",
      "Iteration 92    Train loss: 0.00273246178403 Train acc: 1.0\n",
      "Iteration 93    Train loss: 0.00157479429618 Train acc: 1.0\n",
      "Iteration 94    Train loss: 0.00629221275449 Train acc: 1.0\n",
      "Iteration 95    Train loss: 0.000701134093106 Train acc: 1.0\n",
      "Iteration 96    Train loss: 0.00700167519972 Train acc: 1.0\n",
      "Iteration 97    Train loss: 0.00250332639553 Train acc: 1.0\n",
      "Iteration 98    Train loss: 0.00284776091576 Train acc: 1.0\n",
      "Iteration 99    Train loss: 0.0132656162605 Train acc: 1.0\n",
      "Iteration 100   Train loss: 0.00110094912816 Train acc: 1.0\n",
      "speed: 4.305s / iter\n",
      "Iteration 101   Train loss: 0.00114381220192 Train acc: 1.0\n",
      "Iteration 102   Train loss: 0.00405483879149 Train acc: 1.0\n",
      "Iteration 103   Train loss: 0.00210045743734 Train acc: 1.0\n",
      "Iteration 104   Train loss: 0.00254573323764 Train acc: 1.0\n",
      "Iteration 105   Train loss: 0.0032131136395 Train acc: 1.0\n",
      "Iteration 106   Train loss: 0.015157064423 Train acc: 1.0\n",
      "Iteration 107   Train loss: 0.00507458252832 Train acc: 1.0\n",
      "Iteration 108   Train loss: 0.0018857428804 Train acc: 1.0\n",
      "Iteration 109   Train loss: 0.00551493139938 Train acc: 1.0\n",
      "Iteration 110   Train loss: 0.00588253792375 Train acc: 1.0\n",
      "speed: 4.395s / iter\n",
      "Iteration 111   Train loss: 0.00453520379961 Train acc: 1.0\n",
      "Iteration 112   Train loss: 0.00200098613277 Train acc: 1.0\n",
      "Iteration 113   Train loss: 0.00578674953431 Train acc: 1.0\n",
      "Iteration 114   Train loss: 0.00113909738138 Train acc: 1.0\n",
      "Iteration 115   Train loss: 0.00579697918147 Train acc: 0.9921875\n",
      "Iteration 116   Train loss: 0.00217669107951 Train acc: 1.0\n",
      "Iteration 117   Train loss: 0.00128291663714 Train acc: 1.0\n",
      "Iteration 118   Train loss: 0.00249285204336 Train acc: 1.0\n",
      "Iteration 119   Train loss: 0.00326404278167 Train acc: 1.0\n",
      "Iteration 120   Train loss: 0.00932792481035 Train acc: 1.0\n",
      "speed: 4.481s / iter\n",
      "Iteration 121   Train loss: 0.0019576032646 Train acc: 1.0\n",
      "Iteration 122   Train loss: 0.00111197144724 Train acc: 1.0\n",
      "Iteration 123   Train loss: 0.00745179643854 Train acc: 1.0\n",
      "Iteration 124   Train loss: 0.00981206819415 Train acc: 1.0\n",
      "Iteration 125   Train loss: 0.00150899786968 Train acc: 1.0\n",
      "Iteration 126   Train loss: 0.00408368557692 Train acc: 1.0\n",
      "Iteration 127   Train loss: 0.00244019553065 Train acc: 1.0\n",
      "Iteration 128   Train loss: 0.00458374153823 Train acc: 1.0\n",
      "Iteration 129   Train loss: 0.00215262034908 Train acc: 1.0\n",
      "Iteration 130   Train loss: 0.0108114276081 Train acc: 1.0\n",
      "speed: 4.536s / iter\n",
      "Iteration 131   Train loss: 0.0229316037148 Train acc: 0.9921875\n",
      "Iteration 132   Train loss: 0.0095840934664 Train acc: 1.0\n",
      "Iteration 133   Train loss: 0.00589726865292 Train acc: 1.0\n",
      "Iteration 134   Train loss: 0.00349786318839 Train acc: 1.0\n",
      "Iteration 135   Train loss: 0.00351441651583 Train acc: 1.0\n",
      "Iteration 136   Train loss: 0.0043180398643 Train acc: 1.0\n",
      "Iteration 137   Train loss: 0.00306212436408 Train acc: 1.0\n",
      "Iteration 138   Train loss: 0.00199623894878 Train acc: 1.0\n",
      "Iteration 139   Train loss: 0.00238709943369 Train acc: 1.0\n",
      "Iteration 140   Train loss: 0.011365281418 Train acc: 1.0\n",
      "speed: 4.577s / iter\n",
      "Iteration 141   Train loss: 0.00250319833867 Train acc: 1.0\n",
      "Iteration 142   Train loss: 0.00366625795141 Train acc: 1.0\n",
      "Iteration 143   Train loss: 0.0119008114561 Train acc: 1.0\n",
      "Iteration 144   Train loss: 0.00250756647438 Train acc: 1.0\n",
      "Iteration 145   Train loss: 0.00216004252434 Train acc: 1.0\n",
      "Iteration 146   Train loss: 0.00108264642768 Train acc: 1.0\n",
      "Iteration 147   Train loss: 0.00292179221287 Train acc: 1.0\n",
      "Iteration 148   Train loss: 0.00352746411227 Train acc: 1.0\n",
      "Iteration 149   Train loss: 0.000717855524272 Train acc: 1.0\n",
      "Iteration 150   Train loss: 0.00198348914273 Train acc: 1.0\n",
      "speed: 4.610s / iter\n",
      "Iteration 151   Train loss: 0.00164350040723 Train acc: 1.0\n",
      "Iteration 152   Train loss: 0.00816664472222 Train acc: 1.0\n",
      "Iteration 153   Train loss: 0.00445244740695 Train acc: 1.0\n",
      "Iteration 154   Train loss: 0.00184592034202 Train acc: 1.0\n",
      "Iteration 155   Train loss: 0.00105634599458 Train acc: 1.0\n",
      "Iteration 156   Train loss: 0.00117855134886 Train acc: 1.0\n",
      "Iteration 157   Train loss: 0.00260875583626 Train acc: 1.0\n",
      "Iteration 158   Train loss: 0.00133382319473 Train acc: 1.0\n",
      "Iteration 159   Train loss: 0.0105343451723 Train acc: 1.0\n",
      "Iteration 160   Train loss: 0.00402087811381 Train acc: 1.0\n",
      "speed: 4.652s / iter\n",
      "Iteration 161   Train loss: 0.00158788915724 Train acc: 1.0\n",
      "Iteration 162   Train loss: 0.00229554856196 Train acc: 1.0\n",
      "Iteration 163   Train loss: 0.00165869970806 Train acc: 1.0\n",
      "Iteration 164   Train loss: 0.00186261779163 Train acc: 1.0\n",
      "Iteration 165   Train loss: 0.00560557749122 Train acc: 1.0\n",
      "Iteration 166   Train loss: 0.00507664401084 Train acc: 1.0\n",
      "Iteration 167   Train loss: 0.00294222868979 Train acc: 1.0\n",
      "Iteration 168   Train loss: 0.00134022207931 Train acc: 1.0\n",
      "Iteration 169   Train loss: 0.0115549787879 Train acc: 1.0\n",
      "Iteration 170   Train loss: 0.0299641266465 Train acc: 1.0\n",
      "speed: 4.665s / iter\n",
      "Iteration 171   Train loss: 0.003410899546 Train acc: 1.0\n",
      "Iteration 172   Train loss: 0.00147919706069 Train acc: 1.0\n",
      "Iteration 173   Train loss: 0.00240929774009 Train acc: 1.0\n",
      "Iteration 174   Train loss: 0.00202425732277 Train acc: 1.0\n",
      "Iteration 175   Train loss: 0.00869362615049 Train acc: 1.0\n",
      "Iteration 176   Train loss: 0.00277964677662 Train acc: 1.0\n",
      "Iteration 177   Train loss: 0.00255745463073 Train acc: 1.0\n",
      "Iteration 178   Train loss: 0.00370697770268 Train acc: 1.0\n",
      "Iteration 179   Train loss: 0.000604478525929 Train acc: 1.0\n",
      "Iteration 180   Train loss: 0.0299940258265 Train acc: 0.9921875\n",
      "speed: 4.681s / iter\n",
      "Iteration 181   Train loss: 0.00276108132675 Train acc: 1.0\n",
      "Iteration 182   Train loss: 0.00524135492742 Train acc: 1.0\n",
      "Iteration 183   Train loss: 0.0108254700899 Train acc: 1.0\n",
      "Iteration 184   Train loss: 0.00223182979971 Train acc: 1.0\n",
      "Iteration 185   Train loss: 0.003049723804 Train acc: 1.0\n",
      "Iteration 186   Train loss: 0.0104031227529 Train acc: 1.0\n",
      "Iteration 187   Train loss: 0.00184344453737 Train acc: 1.0\n",
      "Iteration 188   Train loss: 0.00508384313434 Train acc: 1.0\n",
      "Iteration 189   Train loss: 0.0150372460485 Train acc: 1.0\n",
      "Iteration 190   Train loss: 0.0100535629317 Train acc: 1.0\n",
      "speed: 4.710s / iter\n",
      "Iteration 191   Train loss: 0.0117788584903 Train acc: 1.0\n",
      "Iteration 192   Train loss: 0.00170660810545 Train acc: 1.0\n",
      "Iteration 193   Train loss: 0.00614996347576 Train acc: 1.0\n",
      "Iteration 194   Train loss: 0.00552155077457 Train acc: 1.0\n",
      "Iteration 195   Train loss: 0.00213334197178 Train acc: 1.0\n",
      "Iteration 196   Train loss: 0.00457973685116 Train acc: 1.0\n",
      "Iteration 197   Train loss: 0.000775694090407 Train acc: 1.0\n",
      "Iteration 198   Train loss: 0.00307275494561 Train acc: 1.0\n",
      "Iteration 199   Train loss: 0.00423514284194 Train acc: 1.0\n",
      "Iteration 200   Train loss: 0.00103107420728 Train acc: 1.0\n",
      "speed: 4.724s / iter\n",
      "Iteration 201   Train loss: 0.00220854510553 Train acc: 1.0\n",
      "Iteration 202   Train loss: 0.00251498469152 Train acc: 1.0\n",
      "Iteration 203   Train loss: 0.00369208958 Train acc: 1.0\n",
      "Iteration 204   Train loss: 0.00423948001117 Train acc: 1.0\n",
      "Iteration 205   Train loss: 0.000736645422876 Train acc: 1.0\n",
      "Iteration 206   Train loss: 0.0102859949693 Train acc: 1.0\n",
      "Iteration 207   Train loss: 0.000881397339981 Train acc: 1.0\n",
      "Iteration 208   Train loss: 0.00203198217787 Train acc: 1.0\n",
      "Iteration 209   Train loss: 0.00232834252529 Train acc: 1.0\n",
      "Iteration 210   Train loss: 0.00318533554673 Train acc: 1.0\n",
      "speed: 4.749s / iter\n",
      "Iteration 211   Train loss: 0.000889936462045 Train acc: 1.0\n",
      "Iteration 212   Train loss: 0.000568588089664 Train acc: 1.0\n",
      "Iteration 213   Train loss: 0.00344882556237 Train acc: 1.0\n",
      "Iteration 214   Train loss: 0.00154732982628 Train acc: 1.0\n",
      "Iteration 215   Train loss: 0.000969066575635 Train acc: 1.0\n",
      "Iteration 216   Train loss: 0.000742153439205 Train acc: 1.0\n",
      "Iteration 217   Train loss: 0.000603841792326 Train acc: 1.0\n",
      "Iteration 218   Train loss: 0.00830808933824 Train acc: 0.9921875\n",
      "Iteration 219   Train loss: 0.00983613729477 Train acc: 1.0\n",
      "Iteration 220   Train loss: 0.00236616842449 Train acc: 1.0\n",
      "speed: 4.746s / iter\n",
      "Iteration 221   Train loss: 0.00171930808574 Train acc: 1.0\n",
      "Iteration 222   Train loss: 0.00117239367682 Train acc: 1.0\n",
      "Iteration 223   Train loss: 0.00570015143603 Train acc: 1.0\n",
      "Iteration 224   Train loss: 0.00330550619401 Train acc: 1.0\n",
      "Iteration 225   Train loss: 0.00265508936718 Train acc: 1.0\n",
      "Iteration 226   Train loss: 0.00946032069623 Train acc: 1.0\n",
      "Iteration 227   Train loss: 0.00293787545525 Train acc: 1.0\n",
      "Iteration 228   Train loss: 0.00446857977659 Train acc: 1.0\n",
      "Iteration 229   Train loss: 0.00328628439456 Train acc: 1.0\n",
      "Iteration 230   Train loss: 0.00172706507146 Train acc: 1.0\n",
      "speed: 4.765s / iter\n",
      "Iteration 231   Train loss: 0.00640953937545 Train acc: 1.0\n",
      "Iteration 232   Train loss: 0.00128074456006 Train acc: 1.0\n",
      "Iteration 233   Train loss: 0.00426140567288 Train acc: 1.0\n",
      "Iteration 234   Train loss: 0.00427935924381 Train acc: 1.0\n",
      "Iteration 235   Train loss: 0.00627509877086 Train acc: 1.0\n",
      "Iteration 236   Train loss: 0.00175227108411 Train acc: 1.0\n",
      "Iteration 237   Train loss: 0.00135463825427 Train acc: 1.0\n",
      "Iteration 238   Train loss: 0.00343399262056 Train acc: 1.0\n",
      "Iteration 239   Train loss: 0.00398727785796 Train acc: 1.0\n",
      "Iteration 240   Train loss: 0.00326389493421 Train acc: 1.0\n",
      "speed: 4.780s / iter\n",
      "Iteration 241   Train loss: 0.00112342275679 Train acc: 1.0\n",
      "Iteration 242   Train loss: 0.0045296610333 Train acc: 1.0\n",
      "Iteration 243   Train loss: 0.00170286977664 Train acc: 1.0\n",
      "Iteration 244   Train loss: 0.00167021923698 Train acc: 1.0\n",
      "Iteration 245   Train loss: 0.00136535905767 Train acc: 1.0\n",
      "Iteration 246   Train loss: 0.0016146163689 Train acc: 1.0\n",
      "Iteration 247   Train loss: 0.00172658800147 Train acc: 1.0\n",
      "Iteration 248   Train loss: 0.00164835201576 Train acc: 1.0\n",
      "Iteration 249   Train loss: 0.00284066493623 Train acc: 1.0\n",
      "Iteration 250   Train loss: 0.0060695791617 Train acc: 1.0\n",
      "speed: 4.787s / iter\n",
      "Wrote snapshot to: /home/aphex/Projects/DeepLearning/seminar_6/output/rcnn/voc_2007_trainval/snapshot_iter_250.pkl\n",
      "done solving\n",
      "\n",
      "real\t20m45.374s\n",
      "user\t11m59.428s\n",
      "sys\t13m53.228s\n"
     ]
    }
   ],
   "source": [
    "# just for illustration, I did not train the whole thing in IPython of course. \n",
    "NUM_ITERS=250\n",
    "\n",
    "!./experiments/scripts/train_rcnn.sh {NUM_ITERS}"
   ]
  },
  {
   "cell_type": "code",
   "execution_count": null,
   "metadata": {
    "collapsed": false,
    "scrolled": true
   },
   "outputs": [],
   "source": []
  },
  {
   "cell_type": "markdown",
   "metadata": {},
   "source": [
    "Test model\n",
    "--------------------\n",
    "\n",
    "Let's asses the quality of trained model on the test set of PASCAL VOC 2007. In order to do this, you have to implement the **`Tester`** encapsulating a trained network. The **`Tester`**'s sole purpose is to produce confidence scores for bounding-boxes at, well, test time.\n",
    "\n",
    "After the coding is done, the evaluation can be run by invoking:"
   ]
  },
  {
   "cell_type": "code",
   "execution_count": 8,
   "metadata": {
    "collapsed": false,
    "scrolled": true
   },
   "outputs": [
    {
     "name": "stdout",
     "output_type": "stream",
     "text": [
      "+ set -e\n",
      "+ export PYTHONUNBUFFERED=True\n",
      "+ PYTHONUNBUFFERED=True\n",
      "+ SNAPSHOT=/home/aphex/Projects/DeepLearning/seminar_6/output/rcnn/voc_2007_trainval/snapshot_iter_250.pkl\n",
      "+ TEST_IMDB=voc_2007_test\n",
      "++ date +%Y-%m-%d_%H-%M-%S\n",
      "+ LOG=experiments/logs/rcnn.test.txt.2016-04-22_18-52-52\n",
      "+ exec\n",
      "++ tee -a experiments/logs/rcnn.test.txt.2016-04-22_18-52-52\n",
      "tee: experiments/logs/rcnn.test.txt.2016-04-22_18-52-52: No such file or directory\n",
      "+ echo Logging output to experiments/logs/rcnn.test.txt.2016-04-22_18-52-52\n",
      "Logging output to experiments/logs/rcnn.test.txt.2016-04-22_18-52-52\n",
      "+ ./tools/test_net.py --snapshot /home/aphex/Projects/DeepLearning/seminar_6/output/rcnn/voc_2007_trainval/snapshot_iter_250.pkl --imdb voc_2007_test --cfg ./experiments/cfgs/rcnn.yml\n",
      "Using gpu device 1: Quadro K4200 (CNMeM is enabled with initial size: 20.0% of memory, CuDNN 4007)\n",
      "Called with args:\n",
      "Namespace(cfg_file='./experiments/cfgs/rcnn.yml', comp_mode=False, imdb_name='voc_2007_test', max_per_image=100, set_cfgs=None, snapshot='/home/aphex/Projects/DeepLearning/seminar_6/output/rcnn/voc_2007_trainval/snapshot_iter_250.pkl', vis=False, wait=True)\n",
      "Using config:\n",
      "{'DATA_DIR': '/home/aphex/Projects/DeepLearning/seminar_6/data',\n",
      " 'DEDUP_BOXES': 0.0625,\n",
      " 'EPS': 1e-14,\n",
      " 'EXP_DIR': 'rcnn',\n",
      " 'GPU_ID': 1,\n",
      " 'MODELS_DIR': '/home/aphex/Projects/DeepLearning/seminar_6/models/pascal_voc',\n",
      " 'NUM_CLASSES': 21,\n",
      " 'PIXEL_MEANS': array([[[ 102.9801,  115.9465,  122.7717]]]),\n",
      " 'RNG_SEED': 3,\n",
      " 'ROOT_DIR': '/home/aphex/Projects/DeepLearning/seminar_6',\n",
      " 'TEST': {'BBOX_REG': False,\n",
      "          'MAX_SIZE': 1000,\n",
      "          'NMS': 0.3,\n",
      "          'PROPOSAL_METHOD': 'selective_search',\n",
      "          'SCALES': [600],\n",
      "          'SVM': False},\n",
      " 'TRAIN': {'ASPECT_GROUPING': True,\n",
      "           'BATCH_SIZE': 128,\n",
      "           'BBOX_INSIDE_WEIGHTS': [1.0, 1.0, 1.0, 1.0],\n",
      "           'BBOX_NORMALIZE_MEANS': [0.0, 0.0, 0.0, 0.0],\n",
      "           'BBOX_NORMALIZE_STDS': [0.1, 0.1, 0.2, 0.2],\n",
      "           'BBOX_NORMALIZE_TARGETS': True,\n",
      "           'BBOX_NORMALIZE_TARGETS_PRECOMPUTED': False,\n",
      "           'BBOX_REG': False,\n",
      "           'BBOX_THRESH': 0.5,\n",
      "           'BG_THRESH_HI': 0.5,\n",
      "           'BG_THRESH_LO': 0.1,\n",
      "           'FG_FRACTION': 0.25,\n",
      "           'FG_THRESH': 0.5,\n",
      "           'IMS_PER_BATCH': 128,\n",
      "           'MAX_SIZE': 1000,\n",
      "           'PROPOSAL_METHOD': 'selective_search',\n",
      "           'SCALES': [600],\n",
      "           'SNAPSHOT_INFIX': '',\n",
      "           'SNAPSHOT_ITERS': 250,\n",
      "           'USE_FLIPPED': True},\n",
      " 'USE_GPU_NMS': False}\n",
      "Initializing Net\n",
      "Patching Net\n",
      "loaded weights from /home/aphex/Projects/DeepLearning/seminar_6/output/rcnn/voc_2007_trainval/snapshot_iter_250.pkl\n",
      "voc_2007_test ss roidb loaded from /home/aphex/Projects/DeepLearning/seminar_6/data/cache/voc_2007_test_selective_search_roidb.pkl\n",
      "[[  9.95269001e-01   1.50853687e-03   2.39007859e-05 ...,   9.34739437e-05\n",
      "    7.88468315e-05   2.08071106e-05]\n",
      " [  9.94313002e-01   1.30066613e-03   4.25776270e-05 ...,   2.75649392e-04\n",
      "    2.54150746e-05   4.11925925e-04]\n",
      " [  9.89561737e-01   4.32506436e-04   1.49350395e-04 ...,   1.56882947e-04\n",
      "    2.58809014e-04   1.14062517e-04]\n",
      " ..., \n",
      " [  9.99921322e-01   9.63819639e-06   4.49328400e-06 ...,   3.94071606e-07\n",
      "    4.03354022e-07   3.18215342e-07]\n",
      " [  9.97966766e-01   4.55502341e-05   3.27475078e-04 ...,   4.05270875e-05\n",
      "    8.34324601e-05   3.63176514e-05]\n",
      " [  9.99309063e-01   2.58625314e-05   9.64112260e-05 ...,   8.76524609e-06\n",
      "    2.13239673e-05   3.09665375e-05]]\n",
      "im_detect: 1/4952 8.520s 0.001s\n",
      "Traceback (most recent call last):\n",
      "  File \"./tools/test_net.py\", line 77, in <module>\n",
      "    test_net(tester, imdb, max_per_image=args.max_per_image, vis=args.vis)\n",
      "  File \"/home/aphex/Projects/DeepLearning/seminar_6/tools/../lib/fast_rcnn/test.py\", line 227, in test_net\n",
      "    scores, boxes = im_detect(net, im, box_proposals)\n",
      "  File \"/home/aphex/Projects/DeepLearning/seminar_6/tools/../lib/fast_rcnn/test.py\", line 136, in im_detect\n",
      "    blobs_out = net.forward(**forward_kwargs)\n",
      "  File \"/home/aphex/Projects/DeepLearning/seminar_6/tools/../custom/tester.py\", line 15, in forward\n",
      "    net_output = self.predfn(X)\n",
      "  File \"/usr/local/lib/python2.7/dist-packages/theano/compile/function_module.py\", line 871, in __call__\n",
      "    storage_map=getattr(self.fn, 'storage_map', None))\n",
      "  File \"/usr/local/lib/python2.7/dist-packages/theano/gof/link.py\", line 314, in raise_with_op\n",
      "    reraise(exc_type, exc_value, exc_trace)\n",
      "  File \"/usr/local/lib/python2.7/dist-packages/theano/compile/function_module.py\", line 859, in __call__\n",
      "    outputs = self.fn()\n",
      "MemoryError: Error allocating 2367340800 bytes of device memory (CNMEM_STATUS_OUT_OF_MEMORY).\n",
      "Apply node that caused the error: GpuAllocEmpty(Shape_i{0}.0, Shape_i{0}.0, Elemwise{Composite{((((i0 + i1) - i2) // i3) + i4)}}[(0, 0)].0, Elemwise{Composite{((((i0 + i1) - i2) // i3) + i4)}}[(0, 0)].0)\n",
      "Toposort index: 100\n",
      "Inputs types: [TensorType(int64, scalar), TensorType(int64, scalar), TensorType(int64, scalar), TensorType(int64, scalar)]\n",
      "Inputs shapes: [(), (), (), ()]\n",
      "Inputs strides: [(), (), (), ()]\n",
      "Inputs values: [array(2038), array(96), array(55), array(55)]\n",
      "Outputs clients: [[GpuDnnConv{algo='small', inplace=True}(GpuContiguous.0, GpuContiguous.0, GpuAllocEmpty.0, GpuDnnConvDesc{border_mode='valid', subsample=(4, 4), conv_mode='conv', precision='float32'}.0, Constant{1.0}, Constant{0.0})]]\n",
      "\n",
      "HINT: Re-running with most Theano optimization disabled could give you a back-trace of when this node was created. This can be done with by setting the Theano flag 'optimizer=fast_compile'. If that does not work, Theano optimizations can be disabled with 'optimizer=None'.\n",
      "HINT: Use the Theano flag 'exception_verbosity=high' for a debugprint and storage map footprint of this apply node.\n"
     ]
    }
   ],
   "source": [
    "# Put the path to the network snapshot here:\n",
    "SNAPSHOT='/home/aphex/Projects/DeepLearning/seminar_6/output/rcnn/voc_2007_trainval/snapshot_iter_250.pkl'\n",
    "\n",
    "!./experiments/scripts/test_rcnn.sh {SNAPSHOT}"
   ]
  },
  {
   "cell_type": "markdown",
   "metadata": {},
   "source": [
    "The test set is rather large (**4952** images) so it may take some time for the evaluation to finish. Just like in any serious ML research, it's a good idea to leave this thing running overnight."
   ]
  },
  {
   "cell_type": "markdown",
   "metadata": {},
   "source": [
    "Write a short report\n",
    "--------------------\n",
    "\n",
    "Please be advised that while I did my best to infer what exactly do I have to do, the result still MIGHT not be completely alligned with what was expected.\n",
    "\n",
    "Anyways, that's what I've done so far:\n",
    "1. put 2 CNN models (architectures + weights) from ModelZoo - CaffeReference and GoogleNet, in models.py\n",
    "2. completed net.py module to provide interface to the said model\n",
    "3. created some helper modules in utilities.py (as such, a function that produces a (128, 3, 227, 227) tensor for each RoI data layer batch.\n",
    "4. completed SolverWrapper class for the\n",
    "5. Solver class \n",
    "\n",
    "Solver class is initialised with a Net() instance and a prepared roidb instance from SolverWrapper. RoI_data_layer and step_function are also initialised. I only used SGD for optimization. In the get_training_batch I recieve top tensors from RoI_data_layer. Then, for each picture, I extract RoI cropped and resized regions of the image - thus producing X =(128, 3, 227, 227) tensor for each picture. I tried to use maximum batch size which my GPU could accomodate - that was 128 pictures. I used crossentropy between X and true labels as loss function. I tried attaching a 21-node fc layer to both fc7 and fc8 layers of the original CaffeReference network - fc7 turned out to yield much better accuracy.\n",
    "\n",
    "Then, I started training the model. Without any regularization, it quickly converged to 75% accuracy - obviously that happened due to the fact that 75% of all classes are background (0), so the model just learnt to output all zeros. To overcome that, I employed regularization. I tried inserting DropOut in between different layers of the net. Ultimately, the best result was obtained with a p=0.2 DropOut between fc7 and fc8. In 1000 iterations, the model converged to ~0.01 loss (see log above). Overall, I trained the network for 5k iterations or so. Also, it seems that increasing the batch size has a positive effect on training. I did multiple training runs, loading the last weights from file every time.\n",
    "\n",
    "Testing is running now, I will update the notebook when it finishes.\n",
    "\n",
    "Describe the model that you use for this assignment. How do you train it? What did work and what didn't? **Most importantly, does fine-tuning of the whole network work any better than just adapting the last layer?**"
   ]
  },
  {
   "cell_type": "markdown",
   "metadata": {},
   "source": [
    "If things are slow for you (advanced stuff)\n",
    "--------------------\n",
    "\n",
    "Then you are welcome to replace an older R-CNN pipeline with a newer **Fast R-CNN** approach (see [this paper](http://arxiv.org/abs/1504.08083) and, again, [this presentation](http://tutorial.caffe.berkeleyvision.org/caffe-cvpr15-detection.pdf)). The only missing piece is the so-called **ROI Pooling**. Fortunately, you can find a Theano implementation [here](https://github.com/ddtm/theano-roi-pooling) (**it's still somewhat untested**). Roughly speaking, you need to do the following:\n",
    "  1. Wrap the Theano Op into a Lasagne's custom layer (see http://lasagne.readthedocs.org/en/latest/user/custom_layers.html).\n",
    "  2. Change your network to receive two inputs (the whole image(s) and a set of rois - those are available through `ROIDataLayer`) instead of stack of patches of a fixed-size."
   ]
  }
 ],
 "metadata": {
  "kernelspec": {
   "display_name": "Python 2",
   "language": "python",
   "name": "python2"
  },
  "language_info": {
   "codemirror_mode": {
    "name": "ipython",
    "version": 2
   },
   "file_extension": ".py",
   "mimetype": "text/x-python",
   "name": "python",
   "nbconvert_exporter": "python",
   "pygments_lexer": "ipython2",
   "version": "2.7.6"
  },
  "toc": {
   "toc_cell": true,
   "toc_number_sections": true,
   "toc_threshold": 6,
   "toc_window_display": false
  }
 },
 "nbformat": 4,
 "nbformat_minor": 0
}
