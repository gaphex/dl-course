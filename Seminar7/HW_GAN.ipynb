{
 "cells": [
  {
   "cell_type": "markdown",
   "metadata": {},
   "source": [
    "This requires you to write a 2D GAN game. I let you to get into the topic yourself, whitout any explonations from my side. You can watch lecture, seminar, read papers and tutorials (fun, fun, fun)."
   ]
  },
  {
   "cell_type": "markdown",
   "metadata": {},
   "source": [
    "### Homework"
   ]
  },
  {
   "cell_type": "markdown",
   "metadata": {
    "collapsed": true
   },
   "source": [
    "I want you to implement a simple 2D GAN game. The kind of animation, I want to see is like in [this video](https://www.youtube.com/watch?v=KeJINHjyzOU) at 15:30 or in [here](https://habrahabr.ru/post/275429/) but in 2D. You can google, search code at github, whatever, but the network should be based on Theano. \n",
    "\n",
    "Basically you will need to come up with true distribution $P$, say mixture of gaussians (surprise me), sample some data from it. Visualize it as a heatmap. To visualize $G$ density you can fix $N$ noise vectors $\\{z_i\\} \\quad i=1,\\dots, N$ and draw a circle for each $G(z_i)$. It is also funny to visualize discriminator as a vector field (can be done with `plt.arrow`, `plt.quiver plo). Look how it should be in the middle of [this page](http://www.inference.vc/an-alternative-update-rule-for-generative-adversarial-networks/).\n",
    "\n",
    "Please, make sure your code works if 'Run All' is pressed and it draws some animation.\n",
    "\n",
    "Good luck!"
   ]
  },
  {
   "cell_type": "code",
   "execution_count": 65,
   "metadata": {
    "collapsed": false
   },
   "outputs": [],
   "source": [
    "import matplotlib.pyplot as plt\n",
    "from sklearn.mixture import GMM\n",
    "import numpy as np\n",
    "import lasagne\n",
    "import theano\n",
    "import theano.tensor as T\n",
    "from lasagne.nonlinearities import rectify, sigmoid, linear, tanh\n",
    "from scipy.stats import norm\n",
    "import seaborn as sns\n",
    "import time\n",
    "import pylab as pl\n",
    "\n",
    "from scipy.stats import multivariate_normal as norm\n",
    "from sklearn import mixture\n",
    "from matplotlib.colors import LogNorm\n",
    "\n",
    "from IPython import display\n",
    "%matplotlib inline\n",
    "\n",
    "n_samples = M = 2000\n",
    "\n",
    "def sample_distribution():\n",
    "    shifted_gaussian = np.random.randn(n_samples, 2) + np.array([5, 30])\n",
    "    C = np.array([[1., -0.7], [0.5, 1.7]])\n",
    "    stretched_gaussian = np.dot(np.random.randn(n_samples, 2) + np.array([-5, 10]) , C)\n",
    "    X_train = np.vstack([shifted_gaussian, stretched_gaussian])\n",
    "    clf = GMM(n_components=2, covariance_type='full')\n",
    "    clf.fit(X_train)\n",
    "    return clf, X_train\n",
    "\n",
    "def sample_noise(M):\n",
    "    ls =np.linspace(-5,35, M)\n",
    "    u = np.float32(np.vstack([ls, ls]).T + np.random.random((M, 2)) * 5)\n",
    "    return u\n",
    "\n",
    "def plot_d_boundary(discriminate):\n",
    "    D = clf.sample(M)\n",
    "    plt.plot(D, label='p_data')\n",
    "    ds = discriminate(D)\n",
    "    plt.plot(ds, label='decision boundary')\n",
    "    plt.show()"
   ]
  },
  {
   "cell_type": "code",
   "execution_count": 60,
   "metadata": {
    "collapsed": false
   },
   "outputs": [],
   "source": [
    "def plot_before(generate, discriminate):    \n",
    "    x = np.linspace(-110, 60)\n",
    "    y = np.linspace(-60, 90)\n",
    "    X, Y = np.meshgrid(x, y)\n",
    "    XX = np.array([X.ravel(), Y.ravel()]).T\n",
    "    z = -clf.score_samples(XX)[0]\n",
    "    z = z.reshape(X.shape)\n",
    "    plt.figure(figsize=(10, 8))\n",
    "    plt.contourf(X, Y, z, norm=LogNorm(vmin=1.0, vmax=1000.0),\n",
    "                levels=np.logspace(0, 3, 16))\n",
    "    noise = sample_noise(M)\n",
    "    plt.scatter(noise[:, 0], noise[:, 1], 0.8)  \n",
    "    \n",
    "def plot_fig(generate, discriminate):    \n",
    "    x = np.linspace(-110, 60)\n",
    "    y = np.linspace(-60, 90)\n",
    "    X, Y = np.meshgrid(x, y)\n",
    "    XX = np.array([X.ravel(), Y.ravel()]).T\n",
    "    z = -clf.score_samples(XX)[0]\n",
    "    z = z.reshape(X.shape)\n",
    "    plt.figure(figsize=(10, 8))\n",
    "    plt.contourf(X, Y, z, norm=LogNorm(vmin=1.0, vmax=1000.0),\n",
    "                levels=np.logspace(0, 3, 16))\n",
    "    noise = sample_noise(M)\n",
    "    gs = generate(noise)\n",
    "    plt.scatter(gs[:, 0], gs[:, 1], 0.8)      "
   ]
  },
  {
   "cell_type": "code",
   "execution_count": 2,
   "metadata": {
    "collapsed": false
   },
   "outputs": [],
   "source": [
    "G_input = T.matrix('Gx')\n",
    "G_l1 = lasagne.layers.InputLayer((None, 2), G_input)\n",
    "G_l2 = lasagne.layers.DenseLayer(G_l1, 10, nonlinearity=rectify)\n",
    "G_l3 = lasagne.layers.DenseLayer(G_l2, 10, nonlinearity=rectify)\n",
    "G_l4 = lasagne.layers.DenseLayer(G_l3, 2, nonlinearity=linear)\n",
    "G = G_l4\n",
    "\n",
    "G_out = lasagne.layers.get_output(G)\n",
    "\n",
    "# discriminators\n",
    "D1_input = T.matrix('D1x')\n",
    "D1_l1 = lasagne.layers.InputLayer((None, 2), D1_input)\n",
    "D1_l2 = lasagne.layers.DenseLayer(D1_l1, 10, nonlinearity=tanh)\n",
    "D1_l3 = lasagne.layers.DenseLayer(D1_l2, 10, nonlinearity=tanh)\n",
    "D1_l4 = lasagne.layers.DenseLayer(D1_l3, 1, nonlinearity=sigmoid)\n",
    "D1 = D1_l4\n",
    "\n",
    "D2_l1 = lasagne.layers.InputLayer((None, 2), G_out)\n",
    "D2_l2 = lasagne.layers.DenseLayer(D2_l1, 10, nonlinearity=tanh, W=D1_l2.W, b=D1_l2.b)\n",
    "D2_l3 = lasagne.layers.DenseLayer(D2_l2, 10, nonlinearity=tanh, W=D1_l3.W, b=D1_l3.b)\n",
    "D2_l4 = lasagne.layers.DenseLayer(D2_l3, 1, nonlinearity=sigmoid, W=D1_l4.W, b=D1_l4.b)\n",
    "D2 = D2_l4\n",
    "\n",
    "D1_out = lasagne.layers.get_output(D1)\n",
    "D2_out = lasagne.layers.get_output(D2)\n",
    "\n",
    "discriminate = theano.function([D1_input], D1_out, allow_input_downcast=True)\n",
    "generate = theano.function([G_input], G_out, allow_input_downcast=True)"
   ]
  },
  {
   "cell_type": "code",
   "execution_count": null,
   "metadata": {
    "collapsed": false
   },
   "outputs": [],
   "source": [
    "# objectives\n",
    "G_obj = (T.log(D2_out)).mean()\n",
    "D_obj = (T.log(D1_out) + T.log(1 - D2_out)).mean()\n",
    "\n",
    "# parameters update and training\n",
    "G_params = lasagne.layers.get_all_params(G, trainable=True)\n",
    "G_lr = theano.shared(np.array(0.01, dtype=theano.config.floatX))\n",
    "G_updates = lasagne.updates.nesterov_momentum(1 - G_obj, G_params, learning_rate=G_lr, momentum=0.6)\n",
    "G_train = theano.function([G_input], G_obj, updates=G_updates, allow_input_downcast=True)\n",
    "\n",
    "D_params = lasagne.layers.get_all_params(D1, trainable=True)\n",
    "D_lr = theano.shared(np.array(0.1, dtype=theano.config.floatX))\n",
    "D_updates = lasagne.updates.nesterov_momentum(1 - D_obj, D_params, learning_rate=D_lr, momentum=0.6)\n",
    "D_train = theano.function([G_input, D1_input], D_obj, updates=D_updates, allow_input_downcast=True)"
   ]
  },
  {
   "cell_type": "code",
   "execution_count": 56,
   "metadata": {
    "collapsed": false
   },
   "outputs": [],
   "source": [
    "clf, X_train = sample_distribution()"
   ]
  },
  {
   "cell_type": "markdown",
   "metadata": {},
   "source": [
    "### Training"
   ]
  },
  {
   "cell_type": "code",
   "execution_count": 62,
   "metadata": {
    "collapsed": false
   },
   "outputs": [
    {
     "data": {
      "image/png": "[encoded data removed]",
      "text/plain": [
       "<matplotlib.figure.Figure at 0x7f674e4fc210>"
      ]
     },
     "metadata": {},
     "output_type": "display_data"
    },
    {
     "data": {
      "image/png": "[encoded data removed]",
      "text/plain": [
       "<matplotlib.figure.Figure at 0x7f6748ce3dd0>"
      ]
     },
     "metadata": {},
     "output_type": "display_data"
    }
   ],
   "source": [
    "plot_before(generate, discriminate)\n",
    "plt.title('Before Training')\n",
    "plt.show()\n",
    "\n",
    "epochs = 1000\n",
    "k = 10\n",
    "\n",
    "\n",
    "steps = []\n",
    "steps.append(sample_noise(M))\n",
    "visualize_training = False  # set to True to monitor training progress\n",
    "\n",
    "for i in range(epochs):\n",
    "    for j in range(k):\n",
    "        x = clf.sample(M) #original \n",
    "        z = sample_noise(M)  #generated\n",
    "        D_train(z.reshape(M, 2), x.reshape(M, 2))\n",
    "    z = sample_noise(M) # generated\n",
    "    G_train(z.reshape(M, 2))\n",
    "    steps.append(generate(z))\n",
    "    if i % 10 == 0: # lr decay\n",
    "        G_lr *= 0.999\n",
    "        D_lr *= 0.999\n",
    "    if visualize_training:\n",
    "        plt.clf()\n",
    "        plot_fig(generate, discriminate)\n",
    "        plt.draw()\n",
    "\n",
    "plot_fig(generate, discriminate)\n",
    "plt.title('After Training')\n",
    "plt.show()"
   ]
  },
  {
   "cell_type": "code",
   "execution_count": null,
   "metadata": {
    "collapsed": false
   },
   "outputs": [],
   "source": []
  },
  {
   "cell_type": "markdown",
   "metadata": {
    "collapsed": false
   },
   "source": [
    "### Animation"
   ]
  },
  {
   "cell_type": "code",
   "execution_count": null,
   "metadata": {
    "collapsed": false
   },
   "outputs": [],
   "source": [
    "x = np.linspace(-30, 30)\n",
    "y = np.linspace(-30, 30)\n",
    "X, Y = np.meshgrid(x, y)\n",
    "XX = np.array([X.ravel(), Y.ravel()]).T\n",
    "z = -clf.score_samples(XX)[0]\n",
    "z = z.reshape(X.shape)\n",
    "    \n",
    "for i in range(epochs+1):\n",
    "    plt.figure(figsize=(10, 8))\n",
    "    plt.contourf(X, Y, z, norm=LogNorm(vmin=1.0, vmax=1000.0),\n",
    "                levels=np.logspace(0, 3, 16))\n",
    "    noise = steps[i]\n",
    "    plt.scatter(noise[:, 0], noise[:, 1], 0.8)\n",
    "    display.clear_output(wait=True)\n",
    "    display.display(pl.gcf())\n",
    "    time.sleep(.002)\n",
    "    plt.close()"
   ]
  },
  {
   "cell_type": "code",
   "execution_count": null,
   "metadata": {
    "collapsed": false
   },
   "outputs": [],
   "source": []
  },
  {
   "cell_type": "code",
   "execution_count": null,
   "metadata": {
    "collapsed": false
   },
   "outputs": [],
   "source": []
  },
  {
   "cell_type": "code",
   "execution_count": null,
   "metadata": {
    "collapsed": false
   },
   "outputs": [],
   "source": []
  },
  {
   "cell_type": "code",
   "execution_count": null,
   "metadata": {
    "collapsed": false
   },
   "outputs": [],
   "source": []
  },
  {
   "cell_type": "code",
   "execution_count": 46,
   "metadata": {
    "collapsed": false
   },
   "outputs": [],
   "source": []
  },
  {
   "cell_type": "code",
   "execution_count": null,
   "metadata": {
    "collapsed": false
   },
   "outputs": [],
   "source": []
  },
  {
   "cell_type": "code",
   "execution_count": null,
   "metadata": {
    "collapsed": false
   },
   "outputs": [],
   "source": []
  },
  {
   "cell_type": "code",
   "execution_count": null,
   "metadata": {
    "collapsed": false
   },
   "outputs": [],
   "source": []
  },
  {
   "cell_type": "code",
   "execution_count": null,
   "metadata": {
    "collapsed": false
   },
   "outputs": [],
   "source": []
  },
  {
   "cell_type": "code",
   "execution_count": null,
   "metadata": {
    "collapsed": false
   },
   "outputs": [],
   "source": []
  },
  {
   "cell_type": "code",
   "execution_count": null,
   "metadata": {
    "collapsed": false
   },
   "outputs": [],
   "source": []
  },
  {
   "cell_type": "code",
   "execution_count": null,
   "metadata": {
    "collapsed": false
   },
   "outputs": [],
   "source": []
  },
  {
   "cell_type": "code",
   "execution_count": null,
   "metadata": {
    "collapsed": false
   },
   "outputs": [],
   "source": []
  },
  {
   "cell_type": "code",
   "execution_count": null,
   "metadata": {
    "collapsed": false
   },
   "outputs": [],
   "source": []
  },
  {
   "cell_type": "code",
   "execution_count": null,
   "metadata": {
    "collapsed": false
   },
   "outputs": [],
   "source": []
  },
  {
   "cell_type": "code",
   "execution_count": null,
   "metadata": {
    "collapsed": false
   },
   "outputs": [],
   "source": []
  },
  {
   "cell_type": "code",
   "execution_count": null,
   "metadata": {
    "collapsed": false
   },
   "outputs": [],
   "source": []
  },
  {
   "cell_type": "code",
   "execution_count": null,
   "metadata": {
    "collapsed": true
   },
   "outputs": [],
   "source": []
  },
  {
   "cell_type": "code",
   "execution_count": null,
   "metadata": {
    "collapsed": true
   },
   "outputs": [],
   "source": []
  },
  {
   "cell_type": "code",
   "execution_count": null,
   "metadata": {
    "collapsed": true
   },
   "outputs": [],
   "source": []
  },
  {
   "cell_type": "code",
   "execution_count": null,
   "metadata": {
    "collapsed": true
   },
   "outputs": [],
   "source": []
  },
  {
   "cell_type": "code",
   "execution_count": null,
   "metadata": {
    "collapsed": true
   },
   "outputs": [],
   "source": []
  },
  {
   "cell_type": "code",
   "execution_count": null,
   "metadata": {
    "collapsed": true
   },
   "outputs": [],
   "source": []
  },
  {
   "cell_type": "code",
   "execution_count": null,
   "metadata": {
    "collapsed": true
   },
   "outputs": [],
   "source": []
  },
  {
   "cell_type": "code",
   "execution_count": null,
   "metadata": {
    "collapsed": false
   },
   "outputs": [],
   "source": []
  },
  {
   "cell_type": "code",
   "execution_count": null,
   "metadata": {
    "collapsed": true
   },
   "outputs": [],
   "source": []
  },
  {
   "cell_type": "code",
   "execution_count": null,
   "metadata": {
    "collapsed": false
   },
   "outputs": [],
   "source": [
    "epochs = 1000\n",
    "histd, histg = np.zeros(epochs), np.zeros(epochs)\n",
    "k = 20\n",
    "\n",
    "visualize_training = True  # set to True to monitor training progress\n",
    "\n",
    "#plt.ion()\n",
    "\n",
    "for i in range(epochs):\n",
    "    for j in range(k):\n",
    "        x = clf.sample(M)  # sampled m-batch from p_data\n",
    "        z = sample_noise(M)  # sample m-batch from noise prior\n",
    "        histd[i] = D_train(z.reshape(M, 2), x.reshape(M, 2))\n",
    "    z = sample_noise(M)\n",
    "    histg[i] = G_train(z.reshape(M, 2))\n",
    "    if i % 10 == 0:\n",
    "        G_lr *= 0.999\n",
    "        D_lr *= 0.999\n",
    "    if visualize_training and not i%10:\n",
    "        display.clear_output(wait=True)\n",
    "        plt.clf()\n",
    "        plt.figure(figsize=(8,8))\n",
    "        plot_fig(generate, discriminate)\n",
    "        plt.draw()\n",
    "        plt.show()\n",
    "        \n",
    "#plt.ioff()"
   ]
  },
  {
   "cell_type": "code",
   "execution_count": null,
   "metadata": {
    "collapsed": true
   },
   "outputs": [],
   "source": []
  }
 ],
 "metadata": {
  "kernelspec": {
   "display_name": "Python 2",
   "language": "python",
   "name": "python2"
  },
  "language_info": {
   "codemirror_mode": {
    "name": "ipython",
    "version": 2
   },
   "file_extension": ".py",
   "mimetype": "text/x-python",
   "name": "python",
   "nbconvert_exporter": "python",
   "pygments_lexer": "ipython2",
   "version": "2.7.6"
  }
 },
 "nbformat": 4,
 "nbformat_minor": 0
}
